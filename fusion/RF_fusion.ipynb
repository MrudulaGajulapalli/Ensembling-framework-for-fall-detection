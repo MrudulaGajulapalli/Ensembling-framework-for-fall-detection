{
 "cells": [
  {
   "cell_type": "code",
   "execution_count": 1,
   "id": "8bc8ef0e-d66e-4aef-9ab9-36113cc78f23",
   "metadata": {},
   "outputs": [],
   "source": [
    "import pickle\n",
    "import numpy as np\n",
    "from sklearn.metrics import accuracy_score\n",
    "\n"
   ]
  },
  {
   "cell_type": "code",
   "execution_count": 2,
   "id": "59cd4a07-4697-45d4-95de-f79f616fb2a3",
   "metadata": {},
   "outputs": [],
   "source": [
    "RF_joints=r\"E:\\jupyter notebook\\Capstone\\Models_Joints\\RF_joint.pkl\"\n"
   ]
  },
  {
   "cell_type": "code",
   "execution_count": 3,
   "id": "69b993b3-38ba-406b-9bd4-7aef46c47610",
   "metadata": {},
   "outputs": [],
   "source": [
    "# this random forest of joints\n",
    "with open(RF_joints,\"rb\") as f:\n",
    "    loaded_data=pickle.load(f)\n",
    "loaded_RF=loaded_data[\"model\"]\n",
    "RF_pro=loaded_data[\"predicted_probabilities\"]\n",
    "y_test=loaded_data[\"y\"]\n",
    "\n"
   ]
  },
  {
   "cell_type": "code",
   "execution_count": 4,
   "id": "2a8b5c37-a7df-4394-92bb-cc7899ebf124",
   "metadata": {},
   "outputs": [],
   "source": [
    "def getmodel(path):\n",
    "    with open(path,\"rb\") as f:\n",
    "        loaded_data=pickle.load(f)\n",
    "    loaded_model=loaded_data[\"model\"]\n",
    "    pro=loaded_data[\"predicted_probabilities\"]\n",
    "    return pro\n",
    "    "
   ]
  },
  {
   "cell_type": "code",
   "execution_count": 5,
   "id": "24f1e851-f225-48f1-8fec-6cb9944d3acb",
   "metadata": {},
   "outputs": [],
   "source": [
    "\n",
    "def elementwise_row_multiply(array1, array2):\n",
    "    array1 = np.array(array1, dtype=np.float64)\n",
    "    array2 = np.array(array2, dtype=np.float64)\n",
    "    return array1 * array2\n"
   ]
  },
  {
   "cell_type": "code",
   "execution_count": 6,
   "id": "f47ad62f-4a95-4874-9b82-13a619df57ad",
   "metadata": {},
   "outputs": [],
   "source": [
    "def getaccuracy(result):\n",
    "    probs=np.array(result)\n",
    "    preds=np.argmax(probs,axis=1)\n",
    "    accuracy = accuracy_score(y_test, preds)\n",
    "    return accuracy*100\n",
    "\n"
   ]
  },
  {
   "cell_type": "markdown",
   "id": "0dad2293-9d23-48fb-8bc9-e93cd8d888d0",
   "metadata": {},
   "source": [
    "### fusion with navie bayes"
   ]
  },
  {
   "cell_type": "code",
   "execution_count": 7,
   "id": "ef71b842-4da3-4d9c-9164-1525004f0235",
   "metadata": {},
   "outputs": [],
   "source": [
    "NB_MHI=r\"E:\\jupyter notebook\\MHI\\Models_MHI\\NB_MHI.pkl\"\n"
   ]
  },
  {
   "cell_type": "code",
   "execution_count": 8,
   "id": "7d9a4ed8-9408-40d2-b719-a776e388baee",
   "metadata": {},
   "outputs": [],
   "source": [
    "NB=getmodel(NB_MHI)"
   ]
  },
  {
   "cell_type": "code",
   "execution_count": 9,
   "id": "0f70b069-2375-420b-a6bc-6e863e87c9c8",
   "metadata": {},
   "outputs": [],
   "source": [
    "result=elementwise_row_multiply(RF_pro,NB)"
   ]
  },
  {
   "cell_type": "code",
   "execution_count": 10,
   "id": "6b290ed0-96f7-421e-baa3-83b0443a597a",
   "metadata": {},
   "outputs": [],
   "source": [
    "acc=getaccuracy(result)"
   ]
  },
  {
   "cell_type": "code",
   "execution_count": 11,
   "id": "a7102296-2230-48f7-8a77-f9f1fe3753d7",
   "metadata": {},
   "outputs": [
    {
     "name": "stdout",
     "output_type": "stream",
     "text": [
      "Accuracy of RF X NB: 78.57142857142857 %\n"
     ]
    }
   ],
   "source": [
    "print(\"Accuracy of RF X NB:\",acc ,\"%\")"
   ]
  },
  {
   "cell_type": "markdown",
   "id": "701cd1ab-ddf4-431c-a20a-3c23aa2d8fb3",
   "metadata": {},
   "source": [
    "### fusion with SVM"
   ]
  },
  {
   "cell_type": "code",
   "execution_count": 12,
   "id": "7400ddd9-2484-4d42-a9c3-22e63e7ef476",
   "metadata": {},
   "outputs": [],
   "source": [
    "SVM_MHI=r\"E:\\jupyter notebook\\MHI\\Models_MHI\\SVM_MHI.pkl\""
   ]
  },
  {
   "cell_type": "code",
   "execution_count": 13,
   "id": "710c612f-94fb-44b6-8efb-828af1f82aae",
   "metadata": {},
   "outputs": [],
   "source": [
    "SVM=getmodel(SVM_MHI)"
   ]
  },
  {
   "cell_type": "code",
   "execution_count": 14,
   "id": "7ef4b1aa-b4f6-40d2-8d7f-c0ab44d1c0e9",
   "metadata": {},
   "outputs": [],
   "source": [
    "result=elementwise_row_multiply(RF_pro,SVM)"
   ]
  },
  {
   "cell_type": "code",
   "execution_count": 15,
   "id": "7af7a903-57ca-4351-a2ca-4ddd791d27d7",
   "metadata": {},
   "outputs": [],
   "source": [
    "acc=getaccuracy(result)"
   ]
  },
  {
   "cell_type": "code",
   "execution_count": 16,
   "id": "a999726a-6d20-4f39-9a80-4ce6927ba923",
   "metadata": {},
   "outputs": [
    {
     "name": "stdout",
     "output_type": "stream",
     "text": [
      "Accuracy of RF X SVM: 100.0 %\n"
     ]
    }
   ],
   "source": [
    "print(\"Accuracy of RF X SVM:\",acc ,\"%\")"
   ]
  },
  {
   "cell_type": "markdown",
   "id": "975fb896-5fe2-4c30-8117-39d4ca865f3e",
   "metadata": {},
   "source": [
    "### fusion with DTree"
   ]
  },
  {
   "cell_type": "code",
   "execution_count": 17,
   "id": "3c30e3bd-5247-48b9-887c-374be56723cc",
   "metadata": {},
   "outputs": [
    {
     "name": "stdout",
     "output_type": "stream",
     "text": [
      "Accuracy of RF X DTree: 92.85714285714286 %\n"
     ]
    }
   ],
   "source": [
    "D_MHI=r\"E:\\jupyter notebook\\MHI\\Models_MHI\\DTree_MHI.pkl\"\n",
    "Dtree=getmodel(D_MHI)\n",
    "result=elementwise_row_multiply(RF_pro,Dtree)\n",
    "acc=getaccuracy(result)\n",
    "print(\"Accuracy of RF X DTree:\",acc ,\"%\")"
   ]
  },
  {
   "cell_type": "markdown",
   "id": "b090eabf-850d-47a2-b413-6007eb283418",
   "metadata": {},
   "source": [
    "### fusion with KNN"
   ]
  },
  {
   "cell_type": "code",
   "execution_count": 18,
   "id": "624a0ac8-79b2-4039-9123-9fd6e9e3bf52",
   "metadata": {},
   "outputs": [
    {
     "name": "stdout",
     "output_type": "stream",
     "text": [
      "Accuracy of RF X KNN: 97.14285714285714 %\n"
     ]
    }
   ],
   "source": [
    "KNN_MHI=r\"E:\\jupyter notebook\\MHI\\Models_MHI\\KNN_MHI.pkl\"\n",
    "KNN=getmodel(KNN_MHI)\n",
    "result=elementwise_row_multiply(RF_pro,KNN)\n",
    "acc=getaccuracy(result)\n",
    "print(\"Accuracy of RF X KNN:\",acc ,\"%\")"
   ]
  },
  {
   "cell_type": "markdown",
   "id": "dbf25911-7dbc-44a4-abd6-976242ce7f52",
   "metadata": {},
   "source": [
    "### fusion with LR"
   ]
  },
  {
   "cell_type": "code",
   "execution_count": 19,
   "id": "1b852ac1-bf0e-4011-9f34-bfc48300160c",
   "metadata": {},
   "outputs": [
    {
     "name": "stdout",
     "output_type": "stream",
     "text": [
      "Accuracy of RF X LR: 95.71428571428572 %\n"
     ]
    }
   ],
   "source": [
    "LR_MHI=r\"E:\\jupyter notebook\\MHI\\Models_MHI\\LR_MHI.pkl\"\n",
    "LR=getmodel(LR_MHI)\n",
    "result=elementwise_row_multiply(RF_pro,LR)\n",
    "acc=getaccuracy(result)\n",
    "print(\"Accuracy of RF X LR:\",acc ,\"%\")"
   ]
  },
  {
   "cell_type": "markdown",
   "id": "9e6f4909-30c2-46c5-8049-6e608544ffde",
   "metadata": {},
   "source": [
    "### fusion with Random forest"
   ]
  },
  {
   "cell_type": "code",
   "execution_count": 20,
   "id": "39ac5169-6939-4c11-8c8d-d44de563b78d",
   "metadata": {},
   "outputs": [
    {
     "name": "stdout",
     "output_type": "stream",
     "text": [
      "Accuracy of RF X RF: 95.71428571428572 %\n"
     ]
    }
   ],
   "source": [
    "RF_MHI=r\"E:\\jupyter notebook\\MHI\\Models_MHI\\RF_MHI.pkl\"\n",
    "RF=getmodel(LR_MHI)\n",
    "result=elementwise_row_multiply(RF_pro,RF)\n",
    "acc=getaccuracy(result)\n",
    "print(\"Accuracy of RF X RF:\",acc ,\"%\")"
   ]
  },
  {
   "cell_type": "code",
   "execution_count": null,
   "id": "c9adb647-aad6-47d5-bfa9-44bad2fa080f",
   "metadata": {},
   "outputs": [],
   "source": []
  },
  {
   "cell_type": "code",
   "execution_count": null,
   "id": "f4a32bb0-e647-4ccc-9698-68c59424d643",
   "metadata": {},
   "outputs": [],
   "source": []
  },
  {
   "cell_type": "code",
   "execution_count": null,
   "id": "8fc8376c-1552-449a-a31d-3aade9614709",
   "metadata": {},
   "outputs": [],
   "source": []
  }
 ],
 "metadata": {
  "kernelspec": {
   "display_name": "Python 3 (ipykernel)",
   "language": "python",
   "name": "python3"
  },
  "language_info": {
   "codemirror_mode": {
    "name": "ipython",
    "version": 3
   },
   "file_extension": ".py",
   "mimetype": "text/x-python",
   "name": "python",
   "nbconvert_exporter": "python",
   "pygments_lexer": "ipython3",
   "version": "3.12.3"
  }
 },
 "nbformat": 4,
 "nbformat_minor": 5
}
