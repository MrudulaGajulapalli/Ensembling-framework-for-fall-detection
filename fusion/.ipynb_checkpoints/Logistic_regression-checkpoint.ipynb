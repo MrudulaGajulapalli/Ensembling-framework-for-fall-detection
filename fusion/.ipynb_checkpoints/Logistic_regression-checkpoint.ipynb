{
 "cells": [
  {
   "cell_type": "markdown",
   "id": "6b7726e3-727b-4aec-84d9-5748cb9d6a54",
   "metadata": {},
   "source": [
    "# Logistic regression\n"
   ]
  },
  {
   "cell_type": "code",
   "execution_count": 19,
   "id": "8bc8ef0e-d66e-4aef-9ab9-36113cc78f23",
   "metadata": {},
   "outputs": [],
   "source": [
    "import pickle\n",
    "import numpy as np\n",
    "from sklearn.metrics import accuracy_score\n",
    "\n"
   ]
  },
  {
   "cell_type": "code",
   "execution_count": 20,
   "id": "59cd4a07-4697-45d4-95de-f79f616fb2a3",
   "metadata": {},
   "outputs": [],
   "source": [
    "main=r\"E:\\jupyter notebook\\Capstone\\Models_Joints\\LG_joint.pkl\"\n"
   ]
  },
  {
   "cell_type": "code",
   "execution_count": 21,
   "id": "69b993b3-38ba-406b-9bd4-7aef46c47610",
   "metadata": {},
   "outputs": [],
   "source": [
    "# this random forest of joints\n",
    "with open(main,\"rb\") as f:\n",
    "    loaded_data=pickle.load(f)\n",
    "loaded_RF=loaded_data[\"model\"]\n",
    "pro=loaded_data[\"predicted_probabilities\"]\n",
    "y=loaded_data[\"y\"]\n",
    "\n",
    "\n"
   ]
  },
  {
   "cell_type": "code",
   "execution_count": 22,
   "id": "2a8b5c37-a7df-4394-92bb-cc7899ebf124",
   "metadata": {},
   "outputs": [],
   "source": [
    "def getmodel(path):\n",
    "    with open(path,\"rb\") as f:\n",
    "        loaded_data=pickle.load(f)\n",
    "    loaded_model=loaded_data[\"model\"]\n",
    "    pro=loaded_data[\"predicted_probabilities\"]\n",
    "    return pro\n",
    "    "
   ]
  },
  {
   "cell_type": "code",
   "execution_count": 23,
   "id": "24f1e851-f225-48f1-8fec-6cb9944d3acb",
   "metadata": {},
   "outputs": [],
   "source": [
    "\n",
    "def elementwise_row_multiply(array1, array2):\n",
    "    array1 = np.array(array1, dtype=np.float64)\n",
    "    array2 = np.array(array2, dtype=np.float64)\n",
    "    return array1 * array2\n"
   ]
  },
  {
   "cell_type": "code",
   "execution_count": 24,
   "id": "f47ad62f-4a95-4874-9b82-13a619df57ad",
   "metadata": {},
   "outputs": [],
   "source": [
    "def getaccuracy(result):\n",
    "    probs=np.array(result)\n",
    "    preds=np.argmax(probs,axis=1)\n",
    "    accuracy = accuracy_score(y, preds)\n",
    "    return accuracy*100\n",
    "\n"
   ]
  },
  {
   "cell_type": "markdown",
   "id": "0dad2293-9d23-48fb-8bc9-e93cd8d888d0",
   "metadata": {},
   "source": [
    "### fusion with navie bayes"
   ]
  },
  {
   "cell_type": "code",
   "execution_count": 26,
   "id": "ef71b842-4da3-4d9c-9164-1525004f0235",
   "metadata": {},
   "outputs": [
    {
     "name": "stdout",
     "output_type": "stream",
     "text": [
      "Accuracy of main X NB: 77.14285714285715 %\n"
     ]
    }
   ],
   "source": [
    "NB_MHI=r\"E:\\jupyter notebook\\MHI\\Models_MHI\\NB_MHI.pkl\"\n",
    "NB=getmodel(NB_MHI)\n",
    "result=elementwise_row_multiply(pro,NB)\n",
    "acc=getaccuracy(result)\n",
    "print(\"Accuracy of main X NB:\",acc ,\"%\")\n"
   ]
  },
  {
   "cell_type": "markdown",
   "id": "701cd1ab-ddf4-431c-a20a-3c23aa2d8fb3",
   "metadata": {},
   "source": [
    "### fusion with SVM"
   ]
  },
  {
   "cell_type": "code",
   "execution_count": 27,
   "id": "7400ddd9-2484-4d42-a9c3-22e63e7ef476",
   "metadata": {},
   "outputs": [
    {
     "name": "stdout",
     "output_type": "stream",
     "text": [
      "Accuracy of main X SVM: 98.57142857142858 %\n"
     ]
    }
   ],
   "source": [
    "SVM_MHI=r\"E:\\jupyter notebook\\MHI\\Models_MHI\\SVM_MHI.pkl\"\n",
    "SVM=getmodel(SVM_MHI)\n",
    "result=elementwise_row_multiply(pro,SVM)\n",
    "acc=getaccuracy(result)\n",
    "print(\"Accuracy of main X SVM:\",acc ,\"%\")"
   ]
  },
  {
   "cell_type": "markdown",
   "id": "975fb896-5fe2-4c30-8117-39d4ca865f3e",
   "metadata": {},
   "source": [
    "### fusion with DTree"
   ]
  },
  {
   "cell_type": "code",
   "execution_count": 28,
   "id": "3c30e3bd-5247-48b9-887c-374be56723cc",
   "metadata": {},
   "outputs": [
    {
     "name": "stdout",
     "output_type": "stream",
     "text": [
      "Accuracy of main X DTree: 92.85714285714286 %\n"
     ]
    }
   ],
   "source": [
    "D_MHI=r\"E:\\jupyter notebook\\MHI\\Models_MHI\\DTree_MHI.pkl\"\n",
    "Dtree=getmodel(D_MHI)\n",
    "result=elementwise_row_multiply(pro,Dtree)\n",
    "acc=getaccuracy(result)\n",
    "print(\"Accuracy of main X DTree:\",acc ,\"%\")"
   ]
  },
  {
   "cell_type": "markdown",
   "id": "b090eabf-850d-47a2-b413-6007eb283418",
   "metadata": {},
   "source": [
    "### fusion with KNN"
   ]
  },
  {
   "cell_type": "code",
   "execution_count": 29,
   "id": "624a0ac8-79b2-4039-9123-9fd6e9e3bf52",
   "metadata": {},
   "outputs": [
    {
     "name": "stdout",
     "output_type": "stream",
     "text": [
      "Accuracy of main X KNN: 95.71428571428572 %\n"
     ]
    }
   ],
   "source": [
    "KNN_MHI=r\"E:\\jupyter notebook\\MHI\\Models_MHI\\KNN_MHI.pkl\"\n",
    "KNN=getmodel(KNN_MHI)\n",
    "result=elementwise_row_multiply(pro,KNN)\n",
    "acc=getaccuracy(result)\n",
    "print(\"Accuracy of main X KNN:\",acc ,\"%\")"
   ]
  },
  {
   "cell_type": "markdown",
   "id": "dbf25911-7dbc-44a4-abd6-976242ce7f52",
   "metadata": {},
   "source": [
    "### fusion with LR"
   ]
  },
  {
   "cell_type": "code",
   "execution_count": 30,
   "id": "1b852ac1-bf0e-4011-9f34-bfc48300160c",
   "metadata": {},
   "outputs": [
    {
     "name": "stdout",
     "output_type": "stream",
     "text": [
      "Accuracy of main X LR: 95.71428571428572 %\n"
     ]
    }
   ],
   "source": [
    "LR_MHI=r\"E:\\jupyter notebook\\MHI\\Models_MHI\\LR_MHI.pkl\"\n",
    "LR=getmodel(LR_MHI)\n",
    "result=elementwise_row_multiply(pro,LR)\n",
    "acc=getaccuracy(result)\n",
    "print(\"Accuracy of main X LR:\",acc ,\"%\")"
   ]
  },
  {
   "cell_type": "markdown",
   "id": "7dc057b7-f9e1-4552-b20d-2e42240ce101",
   "metadata": {},
   "source": [
    "### fusion with random forest"
   ]
  },
  {
   "cell_type": "code",
   "execution_count": 31,
   "id": "a27be83a-cab2-455c-90f9-c63e14ab4884",
   "metadata": {},
   "outputs": [
    {
     "name": "stdout",
     "output_type": "stream",
     "text": [
      "Accuracy of main X RF: 97.14285714285714 %\n"
     ]
    }
   ],
   "source": [
    "RF_MHI=r\"E:\\jupyter notebook\\MHI\\Models_MHI\\RF_MHI.pkl\"\n",
    "RF=getmodel(RF_MHI)\n",
    "result=elementwise_row_multiply(pro,RF)\n",
    "acc=getaccuracy(result)\n",
    "print(\"Accuracy of main X RF:\",acc ,\"%\")"
   ]
  },
  {
   "cell_type": "code",
   "execution_count": null,
   "id": "dcb5ea6c-0c3c-4eb3-bdb2-191082478dcb",
   "metadata": {},
   "outputs": [],
   "source": []
  },
  {
   "cell_type": "code",
   "execution_count": null,
   "id": "a99df3e4-8bd1-454f-a371-59b43c650091",
   "metadata": {},
   "outputs": [],
   "source": []
  }
 ],
 "metadata": {
  "kernelspec": {
   "display_name": "Python 3 (ipykernel)",
   "language": "python",
   "name": "python3"
  },
  "language_info": {
   "codemirror_mode": {
    "name": "ipython",
    "version": 3
   },
   "file_extension": ".py",
   "mimetype": "text/x-python",
   "name": "python",
   "nbconvert_exporter": "python",
   "pygments_lexer": "ipython3",
   "version": "3.12.3"
  }
 },
 "nbformat": 4,
 "nbformat_minor": 5
}
