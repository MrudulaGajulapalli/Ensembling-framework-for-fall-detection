{
 "cells": [
  {
   "cell_type": "code",
   "execution_count": 2,
   "metadata": {
    "colab": {
     "base_uri": "https://localhost:8080/",
     "height": 1000
    },
    "id": "ySV7DLQavCNh",
    "outputId": "398424c1-fea8-405f-e944-8771ca1dbd51"
   },
   "outputs": [
    {
     "name": "stderr",
     "output_type": "stream",
     "text": [
      "Downloading: \"https://download.pytorch.org/models/keypointrcnn_resnet50_fpn_coco-fc266e95.pth\" to C:\\Users\\manoh/.cache\\torch\\hub\\checkpoints\\keypointrcnn_resnet50_fpn_coco-fc266e95.pth\n",
      "100%|████████████████████████████████████████████████████████████████████████████████| 226M/226M [07:20<00:00, 538kB/s]\n"
     ]
    },
    {
     "ename": "NameError",
     "evalue": "name 'files' is not defined",
     "output_type": "error",
     "traceback": [
      "\u001b[1;31m---------------------------------------------------------------------------\u001b[0m",
      "\u001b[1;31mNameError\u001b[0m                                 Traceback (most recent call last)",
      "Cell \u001b[1;32mIn[2], line 69\u001b[0m\n\u001b[0;32m     65\u001b[0m     cv2\u001b[38;5;241m.\u001b[39mcircle(img, torso_point_hip, \u001b[38;5;241m5\u001b[39m, (\u001b[38;5;241m255\u001b[39m, \u001b[38;5;241m0\u001b[39m, \u001b[38;5;241m0\u001b[39m), \u001b[38;5;241m-\u001b[39m\u001b[38;5;241m1\u001b[39m)  \u001b[38;5;66;03m# Red circle for torso_point_hip\u001b[39;00m\n\u001b[0;32m     68\u001b[0m \u001b[38;5;66;03m# ... (rest of the code remains the same)\u001b[39;00m\n\u001b[1;32m---> 69\u001b[0m uploaded \u001b[38;5;241m=\u001b[39m \u001b[43mfiles\u001b[49m\u001b[38;5;241m.\u001b[39mupload()\n\u001b[0;32m     70\u001b[0m video_path \u001b[38;5;241m=\u001b[39m \u001b[38;5;28mlist\u001b[39m(uploaded\u001b[38;5;241m.\u001b[39mkeys())[\u001b[38;5;241m0\u001b[39m]\n\u001b[0;32m     72\u001b[0m \u001b[38;5;66;03m# Initialize video capture\u001b[39;00m\n",
      "\u001b[1;31mNameError\u001b[0m: name 'files' is not defined"
     ]
    }
   ],
   "source": [
    "# Import necessary libraries\n",
    "# from google.colab import files\n",
    "import cv2\n",
    "import torch\n",
    "import torchvision.transforms as T\n",
    "from torchvision.models.detection import keypointrcnn_resnet50_fpn\n",
    "from PIL import Image\n",
    "import numpy as np\n",
    "from IPython.display import display\n",
    "import warnings\n",
    "warnings.simplefilter(action='ignore')\n",
    "\n",
    "# Load the pre-trained pose estimation model\n",
    "model = keypointrcnn_resnet50_fpn(pretrained=True)\n",
    "model.eval()\n",
    "\n",
    "# Define the keypoints list (including fingers)\n",
    "keypoints_names = ['nose', 'left_eye', 'right_eye', 'left_ear', 'right_ear',\n",
    "                   'left_shoulder', 'right_shoulder', 'left_elbow', 'right_elbow',\n",
    "                   'left_wrist', 'right_wrist', 'left_hip', 'right_hip',\n",
    "                   'left_knee', 'right_knee', 'left_ankle', 'right_ankle']\n",
    "\n",
    "# Create a dictionary to map keypoint names to their indices\n",
    "keypoints_dict = {keypoint: i for i, keypoint in enumerate(keypoints_names)}\n",
    "\n",
    "# Define the skeleton connections\n",
    "skeleton_connections = [\n",
    "    ('nose', 'left_eye'), ('nose', 'right_eye'),\n",
    "    ('left_eye', 'left_ear'), ('right_eye', 'right_ear'),\n",
    "    ('left_shoulder', 'right_shoulder'), ('left_shoulder', 'left_elbow'),\n",
    "    ('right_shoulder', 'right_elbow'), ('left_elbow', 'left_wrist'),\n",
    "    ('right_elbow', 'right_wrist'), ('left_shoulder', 'left_hip'),\n",
    "    ('right_shoulder', 'right_hip'), ('left_hip', 'left_knee'),\n",
    "    ('right_hip', 'right_knee'), ('left_knee', 'left_ankle'),\n",
    "    ('right_knee', 'right_ankle'),('left_hip','right_hip')\n",
    "]\n",
    "\n",
    "# Define the function to draw lines connecting keypoints to form a skeleton\n",
    "# Define the function to draw lines connecting keypoints to form a skeleton\n",
    "def draw_skeleton_lines_with_keypoints(img, keypoints, skeleton_connections):\n",
    "    # Draw skeleton lines\n",
    "    for connection in skeleton_connections:\n",
    "        start_keypoint, end_keypoint = connection\n",
    "        start_point = (int(keypoints[keypoints_dict[start_keypoint]][0]), int(keypoints[keypoints_dict[start_keypoint]][1]))\n",
    "        end_point = (int(keypoints[keypoints_dict[end_keypoint]][0]), int(keypoints[keypoints_dict[end_keypoint]][1]))\n",
    "        cv2.line(img, start_point, end_point, (0, 255, 0), 2)\n",
    "\n",
    "    head_point = (int(keypoints[keypoints_dict['nose']][0]), int(keypoints[keypoints_dict['nose']][1]))\n",
    "    torso_point = (int((keypoints[keypoints_dict['left_shoulder']][0] + keypoints[keypoints_dict['right_shoulder']][0]) / 2),\n",
    "                   int((keypoints[keypoints_dict['left_shoulder']][1] + keypoints[keypoints_dict['right_shoulder']][1]) / 2))\n",
    "    torso_point_hip=(int((keypoints[keypoints_dict['left_hip']][0] + keypoints[keypoints_dict['right_hip']][0]) / 2),\n",
    "                   int((keypoints[keypoints_dict['left_hip']][1] + keypoints[keypoints_dict['right_hip']][1]) / 2))\n",
    "\n",
    "    cv2.line(img, head_point, torso_point, (0, 255, 0), 2)\n",
    "    cv2.line(img,torso_point,torso_point_hip,(0,255,0),2)\n",
    "\n",
    "\n",
    "\n",
    "    # Draw keypoints\n",
    "    for keypoint_name, keypoint_coords in keypoints_dict.items():\n",
    "        keypoint = (int(keypoints[keypoint_coords][0]), int(keypoints[keypoint_coords][1]))\n",
    "        cv2.circle(img, keypoint, 5, (255, 0, 0), -1)\n",
    "\n",
    "    cv2.circle(img, torso_point, 5, (255,0, 0), -1)  # Red circle for torso_point\n",
    "    cv2.circle(img, torso_point_hip, 5, (255, 0, 0), -1)  # Red circle for torso_point_hip\n",
    "\n",
    "\n",
    "# ... (rest of the code remains the same)\n",
    "uploaded = files.upload()\n",
    "video_path = list(uploaded.keys())[0]\n",
    "\n",
    "# Initialize video capture\n",
    "cap = cv2.VideoCapture(video_path)\n",
    "\n",
    "# Initialize video writer for output\n",
    "frame_width = 1000\n",
    "frame_height = 1000\n",
    "out = cv2.VideoWriter('output_video_skeleton.mp4', cv2.VideoWriter_fourcc(*'mp4v'), 30, (frame_width, frame_height))\n",
    "\n",
    "# Define the transformation to apply to each frame\n",
    "transform = T.Compose([T.ToTensor()])\n",
    "# Process each frame of the video\n",
    "while True:\n",
    "    ret, frame = cap.read()\n",
    "    if not ret:\n",
    "        break\n",
    "\n",
    "    # Preprocess the frame and make prediction\n",
    "    img_tensor = transform(frame)\n",
    "    with torch.no_grad():\n",
    "        prediction = model([img_tensor])\n",
    "\n",
    "    # Get keypoints from the prediction (customize this based on your model's output format)\n",
    "    keypoints = prediction[0]['keypoints'][0].numpy()\n",
    "\n",
    "    # Draw lines and keypoints to form a skeleton\n",
    "    draw_skeleton_lines_with_keypoints(frame, keypoints, skeleton_connections)\n",
    "\n",
    "    # Display the frame with skeleton lines and keypoints\n",
    "    _, img_encoded = cv2.imencode('.png', cv2.cvtColor(frame, cv2.COLOR_BGR2RGB))\n",
    "    img_pil = Image.fromarray(cv2.cvtColor(frame, cv2.COLOR_BGR2RGB))\n",
    "    display(img_pil)\n",
    "\n",
    "    # Write the frame with skeleton lines and keypoints to the output video\n",
    "    out.write(frame)\n",
    "\n",
    "# ... (rest of the code remains the same)\n",
    "cap.release()\n",
    "out.release()\n",
    "cv2.destroyAllWindows()\n"
   ]
  },
  {
   "cell_type": "code",
   "execution_count": null,
   "metadata": {
    "colab": {
     "base_uri": "https://localhost:8080/",
     "height": 390
    },
    "id": "oTvNQVY24O6S",
    "outputId": "349896a8-e096-4d35-be37-37877c33f970"
   },
   "outputs": [],
   "source": [
    "# Import necessary libraries\n",
    "import cv2\n",
    "import torch\n",
    "import torchvision.transforms as T\n",
    "from torchvision.models.detection import keypointrcnn_resnet50_fpn\n",
    "from PIL import Image\n",
    "import numpy as np\n",
    "import os\n",
    "\n",
    "# Load the pre-trained pose estimation model\n",
    "model = keypointrcnn_resnet50_fpn(pretrained=True)\n",
    "model.eval()\n",
    "\n",
    "# Define the keypoints list (including fingers)\n",
    "keypoints_names = ['nose', 'left_eye', 'right_eye', 'left_ear', 'right_ear',\n",
    "                   'left_shoulder', 'right_shoulder', 'left_elbow', 'right_elbow',\n",
    "                   'left_wrist', 'right_wrist', 'left_hip', 'right_hip',\n",
    "                   'left_knee', 'right_knee', 'left_ankle', 'right_ankle']\n",
    "\n",
    "# Create a dictionary to map keypoint names to their indices\n",
    "keypoints_dict = {keypoint: i for i, keypoint in enumerate(keypoints_names)}\n",
    "\n",
    "# Define the skeleton connections\n",
    "skeleton_connections = [\n",
    "    ('nose', 'left_eye'), ('nose', 'right_eye'),\n",
    "    ('left_eye', 'left_ear'), ('right_eye', 'right_ear'),\n",
    "    ('left_shoulder', 'right_shoulder'), ('left_shoulder', 'left_elbow'),\n",
    "    ('right_shoulder', 'right_elbow'), ('left_elbow', 'left_wrist'),\n",
    "    ('right_elbow', 'right_wrist'), ('left_shoulder', 'left_hip'),\n",
    "    ('right_shoulder', 'right_hip'), ('left_hip', 'left_knee'),\n",
    "    ('right_hip', 'right_knee'), ('left_knee', 'left_ankle'),\n",
    "    ('right_knee', 'right_ankle'), ('left_hip', 'right_hip')\n",
    "]\n",
    "\n",
    "# Define the function to draw lines connecting keypoints to form a skeleton\n",
    "def draw_skeleton_lines_with_keypoints(img, keypoints, skeleton_connections):\n",
    "    # Draw skeleton lines\n",
    "    for connection in skeleton_connections:\n",
    "        start_keypoint, end_keypoint = connection\n",
    "        start_point = (int(keypoints[keypoints_dict[start_keypoint]][0]), int(keypoints[keypoints_dict[start_keypoint]][1]))\n",
    "        end_point = (int(keypoints[keypoints_dict[end_keypoint]][0]), int(keypoints[keypoints_dict[end_keypoint]][1]))\n",
    "        cv2.line(img, start_point, end_point, (0, 255, 0), 2)\n",
    "\n",
    "    head_point = (int(keypoints[keypoints_dict['nose']][0]), int(keypoints[keypoints_dict['nose']][1]))\n",
    "    torso_point = (int((keypoints[keypoints_dict['left_shoulder']][0] + keypoints[keypoints_dict['right_shoulder']][0]) / 2),\n",
    "                   int((keypoints[keypoints_dict['left_shoulder']][1] + keypoints[keypoints_dict['right_shoulder']][1]) / 2))\n",
    "    torso_point_hip = (int((keypoints[keypoints_dict['left_hip']][0] + keypoints[keypoints_dict['right_hip']][0]) / 2),\n",
    "                      int((keypoints[keypoints_dict['left_hip']][1] + keypoints[keypoints_dict['right_hip']][1]) / 2))\n",
    "\n",
    "    cv2.line(img, head_point, torso_point, (0, 255, 0), 2)\n",
    "    cv2.line(img, torso_point, torso_point_hip, (0, 255, 0), 2)\n",
    "\n",
    "    # Draw keypoints\n",
    "    for keypoint_name, keypoint_coords in keypoints_dict.items():\n",
    "        keypoint = (int(keypoints[keypoint_coords][0]), int(keypoints[keypoint_coords][1]))\n",
    "        cv2.circle(img, keypoint, 5, (255, 0, 0), -1)\n",
    "\n",
    "    cv2.circle(img, torso_point, 5, (255, 0, 0), -1)  # Red circle for torso_point\n",
    "    cv2.circle(img, torso_point_hip, 5, (255, 0, 0), -1)  # Red circle for torso_point_hip\n",
    "\n",
    "\n",
    "# Take input folder from the user\n",
    "input_folder = input(\"Enter the path to the folder containing images: \")\n",
    "\n",
    "# List all files in the folder\n",
    "image_files = [f for f in os.listdir(input_folder) if f.endswith(('.jpg', '.jpeg', '.png'))]\n",
    "\n",
    "# Process each image in the folder\n",
    "for image_file in image_files:\n",
    "    image_path = os.path.join(input_folder, image_file)\n",
    "\n",
    "    # Read the image\n",
    "    frame = cv2.imread(image_path)\n",
    "\n",
    "    # Preprocess the frame and make prediction\n",
    "    img_tensor = transform(frame)\n",
    "    with torch.no_grad():\n",
    "        prediction = model([img_tensor])\n",
    "\n",
    "    # Get keypoints from the prediction (customize this based on your model's output format)\n",
    "    keypoints = prediction[0]['keypoints'][0].numpy()\n",
    "\n",
    "    # Draw lines and keypoints to form a skeleton\n",
    "    draw_skeleton_lines_with_keypoints(frame, keypoints, skeleton_connections)\n",
    "\n",
    "    # Display the frame with skeleton lines and keypoints\n",
    "    _, img_encoded = cv2.imencode('.png', cv2.cvtColor(frame, cv2.COLOR_BGR2RGB))\n",
    "    img_pil = Image.fromarray(cv2.cvtColor(frame, cv2.COLOR_BGR2RGB))\n",
    "    display(img_pil)\n",
    "\n",
    "# ... (rest of the code remains the same)\n",
    "    # Write the frame with skeleton lines and keypoints to the output video\n",
    "    out.write(frame)\n",
    "\n",
    "# ... (rest of the code remains the same)\n",
    "cap.release()\n",
    "out.release()\n",
    "cv2.destroyAllWindows()\n"
   ]
  },
  {
   "cell_type": "code",
   "execution_count": null,
   "metadata": {
    "colab": {
     "base_uri": "https://localhost:8080/"
    },
    "id": "ukU791nSxr2G",
    "outputId": "9737e69e-e703-4b09-b0fd-d17093f41800"
   },
   "outputs": [],
   "source": [
    "keypoints_names = ['nose', 'left_eye', 'right_eye', 'left_ear', 'right_ear',\n",
    "                   'left_shoulder', 'right_shoulder', 'left_elbow', 'right_elbow',\n",
    "                   'left_wrist', 'right_wrist', 'left_hip', 'right_hip',\n",
    "                   'left_knee', 'right_knee', 'left_ankle', 'right_ankle']\n",
    "\n",
    "# Create a dictionary to map keypoint names to their indices\n",
    "keypoints_dict = {keypoint: i for i, keypoint in enumerate(keypoints_names)}\n",
    "print(keypoints_dict)"
   ]
  },
  {
   "cell_type": "code",
   "execution_count": null,
   "metadata": {
    "colab": {
     "base_uri": "https://localhost:8080/",
     "height": 245
    },
    "id": "MqG1sURP7zER",
    "outputId": "9cd3ead0-edbf-4793-b432-5b736df2f5ea"
   },
   "outputs": [
    {
     "ename": "FileNotFoundError",
     "evalue": "ignored",
     "output_type": "error",
     "traceback": [
      "\u001b[0;31m---------------------------------------------------------------------------\u001b[0m",
      "\u001b[0;31mFileNotFoundError\u001b[0m                         Traceback (most recent call last)",
      "\u001b[0;32m<ipython-input-12-b1203479498c>\u001b[0m in \u001b[0;36m<cell line: 68>\u001b[0;34m()\u001b[0m\n\u001b[1;32m     66\u001b[0m \u001b[0;34m\u001b[0m\u001b[0m\n\u001b[1;32m     67\u001b[0m \u001b[0;31m# Get a list of all image files in the folder and sort them\u001b[0m\u001b[0;34m\u001b[0m\u001b[0;34m\u001b[0m\u001b[0m\n\u001b[0;32m---> 68\u001b[0;31m \u001b[0mimage_files\u001b[0m \u001b[0;34m=\u001b[0m \u001b[0msorted\u001b[0m\u001b[0;34m(\u001b[0m\u001b[0;34m[\u001b[0m\u001b[0mf\u001b[0m \u001b[0;32mfor\u001b[0m \u001b[0mf\u001b[0m \u001b[0;32min\u001b[0m \u001b[0mos\u001b[0m\u001b[0;34m.\u001b[0m\u001b[0mlistdir\u001b[0m\u001b[0;34m(\u001b[0m\u001b[0mfolder_path\u001b[0m\u001b[0;34m)\u001b[0m \u001b[0;32mif\u001b[0m \u001b[0mf\u001b[0m\u001b[0;34m.\u001b[0m\u001b[0mendswith\u001b[0m\u001b[0;34m(\u001b[0m\u001b[0;34m(\u001b[0m\u001b[0;34m'.jpg'\u001b[0m\u001b[0;34m,\u001b[0m \u001b[0;34m'.jpeg'\u001b[0m\u001b[0;34m,\u001b[0m \u001b[0;34m'.png'\u001b[0m\u001b[0;34m)\u001b[0m\u001b[0;34m)\u001b[0m\u001b[0;34m]\u001b[0m\u001b[0;34m)\u001b[0m\u001b[0;34m\u001b[0m\u001b[0;34m\u001b[0m\u001b[0m\n\u001b[0m\u001b[1;32m     69\u001b[0m \u001b[0;34m\u001b[0m\u001b[0m\n\u001b[1;32m     70\u001b[0m \u001b[0;31m# ... (rest of the code remains the same)\u001b[0m\u001b[0;34m\u001b[0m\u001b[0;34m\u001b[0m\u001b[0m\n",
      "\u001b[0;31mFileNotFoundError\u001b[0m: [Errno 2] No such file or directory: 'C://s01_e01'"
     ]
    }
   ],
   "source": [
    "# Import necessary libraries\n",
    "import os\n",
    "import cv2\n",
    "import torch\n",
    "import torchvision.transforms as T\n",
    "from torchvision.models.detection import keypointrcnn_resnet50_fpn\n",
    "from PIL import Image\n",
    "import numpy as np\n",
    "from IPython.display import display\n",
    "import warnings\n",
    "warnings.simplefilter(action='ignore')\n",
    "\n",
    "# Load the pre-trained pose estimation model\n",
    "model = keypointrcnn_resnet50_fpn(pretrained=True)\n",
    "model.eval()\n",
    "\n",
    "# Define the keypoints list (including fingers)\n",
    "keypoints_names = ['nose', 'left_eye', 'right_eye', 'left_ear', 'right_ear',\n",
    "                   'left_shoulder', 'right_shoulder', 'left_elbow', 'right_elbow',\n",
    "                   'left_wrist', 'right_wrist', 'left_hip', 'right_hip',\n",
    "                   'left_knee', 'right_knee', 'left_ankle', 'right_ankle']\n",
    "\n",
    "# Create a dictionary to map keypoint names to their indices\n",
    "keypoints_dict = {keypoint: i for i, keypoint in enumerate(keypoints_names)}\n",
    "\n",
    "# Define the skeleton connections\n",
    "skeleton_connections = [\n",
    "    ('nose', 'left_eye'), ('nose', 'right_eye'),\n",
    "    ('left_eye', 'left_ear'), ('right_eye', 'right_ear'),\n",
    "    ('left_shoulder', 'right_shoulder'), ('left_shoulder', 'left_elbow'),\n",
    "    ('right_shoulder', 'right_elbow'), ('left_elbow', 'left_wrist'),\n",
    "    ('right_elbow', 'right_wrist'), ('left_shoulder', 'left_hip'),\n",
    "    ('right_shoulder', 'right_hip'), ('left_hip', 'left_knee'),\n",
    "    ('right_hip', 'right_knee'), ('left_knee', 'left_ankle'),\n",
    "    ('right_knee', 'right_ankle'), ('left_hip', 'right_hip')\n",
    "]\n",
    "\n",
    "# Define the function to draw lines connecting keypoints to form a skeleton\n",
    "def draw_skeleton_lines_with_keypoints(img, keypoints, skeleton_connections):\n",
    "    # Draw skeleton lines\n",
    "    for connection in skeleton_connections:\n",
    "        start_keypoint, end_keypoint = connection\n",
    "        start_point = (int(keypoints[keypoints_dict[start_keypoint]][0]), int(keypoints[keypoints_dict[start_keypoint]][1]))\n",
    "        end_point = (int(keypoints[keypoints_dict[end_keypoint]][0]), int(keypoints[keypoints_dict[end_keypoint]][1]))\n",
    "        cv2.line(img, start_point, end_point, (0, 255, 0), 2)\n",
    "\n",
    "    head_point = (int(keypoints[keypoints_dict['nose']][0]), int(keypoints[keypoints_dict['nose']][1]))\n",
    "    torso_point = (int((keypoints[keypoints_dict['left_shoulder']][0] + keypoints[keypoints_dict['right_shoulder']][0]) / 2),\n",
    "                   int((keypoints[keypoints_dict['left_shoulder']][1] + keypoints[keypoints_dict['right_shoulder']][1]) / 2))\n",
    "    torso_point_hip = (int((keypoints[keypoints_dict['left_hip']][0] + keypoints[keypoints_dict['right_hip']][0]) / 2),\n",
    "                       int((keypoints[keypoints_dict['left_hip']][1] + keypoints[keypoints_dict['right_hip']][1]) / 2))\n",
    "\n",
    "    cv2.line(img, head_point, torso_point, (0, 255, 0), 2)\n",
    "    cv2.line(img, torso_point, torso_point_hip, (0, 255, 0), 2)\n",
    "\n",
    "    # Draw keypoints\n",
    "    for keypoint_name, keypoint_coords in keypoints_dict.items():\n",
    "        keypoint = (int(keypoints[keypoint_coords][0]), int(keypoints[keypoint_coords][1]))\n",
    "        cv2.circle(img, keypoint, 5, (255, 0, 0), -1)\n",
    "\n",
    "    cv2.circle(img, torso_point, 5, (255, 0, 0), -1)  # Red circle for torso_point\n",
    "    cv2.circle(img, torso_point_hip, 5, (255, 0, 0), -1)  # Red circle for torso_point_hip\n",
    "\n",
    "# Specify the path to the folder containing images\n",
    "folder_path = \"C://s01_e01\"\n",
    "\n",
    "# Get a list of all image files in the folder and sort them\n",
    "image_files = sorted([f for f in os.listdir(folder_path) if f.endswith(('.jpg', '.jpeg', '.png'))])\n",
    "\n",
    "# ... (rest of the code remains the same)\n",
    "\n",
    "# Process each image in the folder\n",
    "for image_file in image_files:\n",
    "    # Read the image\n",
    "    img_path = os.path.join(folder_path, image_file)\n",
    "    frame = cv2.imread(img_path)\n",
    "\n",
    "# Initialize video writer for output\n",
    "frame_width = 640  # Adjust as needed\n",
    "frame_height = 480  # Adjust as needed\n",
    "out = cv2.VideoWriter('output_video_skeleton.mp4', cv2.VideoWriter_fourcc(*'mp4v'), 30, (frame_width, frame_height))\n",
    "\n",
    "# Define the transformation to apply to each frame\n",
    "transform = T.Compose([T.ToTensor()])\n",
    "\n",
    "# Process each image in the folder\n",
    "for image_file in image_files:\n",
    "    # Read the image\n",
    "    img_path = os.path.join(folder_path, image_file)\n",
    "    frame = cv2.imread(img_path)\n",
    "\n",
    "    # Preprocess the frame and make prediction\n",
    "    img_tensor = transform(frame)\n",
    "    with torch.no_grad():\n",
    "        prediction = model([img_tensor])\n",
    "\n",
    "    # Get keypoints from the prediction (customize this based on your model's output format)\n",
    "    keypoints = prediction[0]['keypoints'][0].numpy()\n",
    "\n",
    "    # Draw lines and keypoints to form a skeleton\n",
    "    draw_skeleton_lines_with_keypoints(frame, keypoints, skeleton_connections)\n",
    "\n",
    "    # Display the frame with skeleton lines and keypoints\n",
    "    _, img_encoded = cv2.imencode('.png', cv2.cvtColor(frame, cv2.COLOR_BGR2RGB))\n",
    "    img_pil = Image.fromarray(cv2.cvtColor(frame, cv2.COLOR_BGR2RGB))\n",
    "    display(img_pil)\n",
    "\n",
    "    # Write the frame with skeleton lines and keypoints to the output video\n",
    "    out.write(frame)\n",
    "\n",
    "# Release resources\n",
    "out.release()\n",
    "cv2.destroyAllWindows()"
   ]
  },
  {
   "cell_type": "code",
   "execution_count": null,
   "metadata": {
    "id": "LpWMc3EKSCl9"
   },
   "outputs": [],
   "source": [
    "from imutils import paths\n",
    "import cv2"
   ]
  },
  {
   "cell_type": "code",
   "execution_count": null,
   "metadata": {
    "id": "HrRF7SN9SRCB"
   },
   "outputs": [],
   "source": [
    "imagepaths=list(paths.list_images(\"D:\\Pictures\\me\\IMG_2748.HEIC\"))"
   ]
  },
  {
   "cell_type": "code",
   "execution_count": null,
   "metadata": {
    "colab": {
     "base_uri": "https://localhost:8080/"
    },
    "id": "G-8aomZ_Sc_0",
    "outputId": "0bc34b93-ed5e-4e5f-af0a-9ba800619ee9"
   },
   "outputs": [
    {
     "data": {
      "text/plain": [
       "[]"
      ]
     },
     "execution_count": 39,
     "metadata": {},
     "output_type": "execute_result"
    }
   ],
   "source": [
    "imagepaths"
   ]
  },
  {
   "cell_type": "code",
   "execution_count": null,
   "metadata": {
    "id": "53qIpwC0S8Ji"
   },
   "outputs": [],
   "source": [
    "from tensorflow.keras.preprocessing.image import ImageDataGenerator\n",
    "from tensorflow.keras.preprocessing import image\n",
    "from tensorflow.keras.optimizers import RMSprop\n",
    "import matplotlib.pyplot as plt\n",
    "import tensorflow as tf\n",
    "import numpy as np\n",
    "import cv2\n",
    "import os"
   ]
  },
  {
   "cell_type": "code",
   "execution_count": null,
   "metadata": {
    "id": "KZd21mekXZUs"
   },
   "outputs": [],
   "source": []
  },
  {
   "cell_type": "code",
   "execution_count": null,
   "metadata": {
    "id": "Lz0nhpvsXzXw"
   },
   "outputs": [],
   "source": []
  },
  {
   "cell_type": "code",
   "execution_count": null,
   "metadata": {
    "id": "lJYs7uwyX5Qt"
   },
   "outputs": [],
   "source": []
  }
 ],
 "metadata": {
  "colab": {
   "provenance": []
  },
  "kernelspec": {
   "display_name": "Python 3 (ipykernel)",
   "language": "python",
   "name": "python3"
  },
  "language_info": {
   "codemirror_mode": {
    "name": "ipython",
    "version": 3
   },
   "file_extension": ".py",
   "mimetype": "text/x-python",
   "name": "python",
   "nbconvert_exporter": "python",
   "pygments_lexer": "ipython3",
   "version": "3.12.3"
  }
 },
 "nbformat": 4,
 "nbformat_minor": 4
}
