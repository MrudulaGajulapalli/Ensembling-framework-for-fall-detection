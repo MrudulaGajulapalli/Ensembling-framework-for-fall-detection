{
 "cells": [
  {
   "cell_type": "code",
   "execution_count": 2,
   "id": "123ad2f1",
   "metadata": {},
   "outputs": [],
   "source": [
    "import os\n",
    "import pandas as pd\n",
    "import numpy as np\n",
    "import matplotlib.pyplot as plt\n",
    "import tensorflow as tf\n",
    "import cv2"
   ]
  },
  {
   "cell_type": "code",
   "execution_count": 3,
   "id": "0b0066ab",
   "metadata": {},
   "outputs": [],
   "source": [
    "fall=r\"E:\\Fall Detection Dataset\\fall_cam1\\datasets\"\n",
    "nonfall=r\"E:\\Fall Detection Dataset\\nonfall_cam0\"\n",
    "\n",
    "video_data=[]\n",
    "labels=[]"
   ]
  },
  {
   "cell_type": "code",
   "execution_count": 4,
   "id": "de6032dc",
   "metadata": {},
   "outputs": [],
   "source": [
    "for video_folder in sorted(os.listdir(fall)):\n",
    "    video_path = os.path.join(fall, video_folder)\n",
    "    \n",
    "    if not os.path.isdir(video_path):\n",
    "        continue  # Skip if it's not a folder\n",
    "    \n",
    "    frames = []\n",
    "    \n",
    "    # Iterate through frames (images) in sorted order\n",
    "    for frame in sorted(os.listdir(video_path)):\n",
    "        frame_path = os.path.join(video_path, frame)\n",
    "        \n",
    "        if frame_path.lower().endswith(('.png', '.jpg', '.jpeg')):\n",
    "            img = cv2.imread(frame_path)  # Read image\n",
    "            #img = cv2.resize(img, frame_size)  # Resize (optional)\n",
    "            #img = cv2.cvtColor(img, cv2.COLOR_BGR2RGB)  # Convert BGR to RGB\n",
    "            frames.append(img)\n",
    "    \n",
    "    if frames:  # If frames were found\n",
    "        video_array = np.array(frames)  # Convert list to NumPy array\n",
    "        video_data.append(video_array)  # Append to dataset\n",
    "        labels.append(video_folder)  # Store the folder name as label\n",
    "\n"
   ]
  },
  {
   "cell_type": "code",
   "execution_count": 5,
   "id": "4a83b10e-7353-435d-842c-7b399e9b91ab",
   "metadata": {},
   "outputs": [
    {
     "name": "stdout",
     "output_type": "stream",
     "text": [
      "Total videos loaded: 30\n",
      "Shape of first video: (160, 480, 640, 3)\n"
     ]
    }
   ],
   "source": [
    "# Convert to NumPy arrays\n",
    "labels=np.array(labels)\n",
    "#video_data = np.array(video_data, dtype=object)  # Each video has a different number of frames\n",
    "print(f\"Total videos loaded: {len(video_data)}\")\n",
    "print(f\"Shape of first video: {video_data[0].shape}\")"
   ]
  },
  {
   "cell_type": "code",
   "execution_count": 6,
   "id": "d5d66576",
   "metadata": {},
   "outputs": [
    {
     "data": {
      "text/plain": [
       "55"
      ]
     },
     "execution_count": 6,
     "metadata": {},
     "output_type": "execute_result"
    }
   ],
   "source": [
    "min_frames=min(video.shape[0] for video in video_data)\n",
    "min_frames"
   ]
  },
  {
   "cell_type": "code",
   "execution_count": 7,
   "id": "3e6e26de",
   "metadata": {},
   "outputs": [
    {
     "data": {
      "text/plain": [
       "30"
      ]
     },
     "execution_count": 7,
     "metadata": {},
     "output_type": "execute_result"
    }
   ],
   "source": [
    "len(video_data)"
   ]
  },
  {
   "cell_type": "code",
   "execution_count": 8,
   "id": "8eb5f49a",
   "metadata": {},
   "outputs": [
    {
     "data": {
      "text/plain": [
       "array([[[[175, 168, 181],\n",
       "         [174, 167, 180],\n",
       "         [173, 166, 179],\n",
       "         ...,\n",
       "         [254, 254, 254],\n",
       "         [254, 254, 254],\n",
       "         [254, 254, 254]],\n",
       "\n",
       "        [[178, 171, 184],\n",
       "         [177, 170, 183],\n",
       "         [175, 168, 181],\n",
       "         ...,\n",
       "         [254, 254, 254],\n",
       "         [254, 254, 254],\n",
       "         [254, 254, 254]],\n",
       "\n",
       "        [[176, 169, 182],\n",
       "         [174, 167, 180],\n",
       "         [173, 166, 179],\n",
       "         ...,\n",
       "         [254, 254, 254],\n",
       "         [254, 254, 254],\n",
       "         [254, 254, 254]],\n",
       "\n",
       "        ...,\n",
       "\n",
       "        [[ 40,  37,  33],\n",
       "         [ 41,  38,  34],\n",
       "         [ 41,  38,  34],\n",
       "         ...,\n",
       "         [ 89,  89,  75],\n",
       "         [ 94,  94,  80],\n",
       "         [ 94,  94,  80]],\n",
       "\n",
       "        [[ 42,  39,  35],\n",
       "         [ 43,  40,  36],\n",
       "         [ 43,  40,  36],\n",
       "         ...,\n",
       "         [ 89,  90,  74],\n",
       "         [ 91,  92,  76],\n",
       "         [ 89,  90,  74]],\n",
       "\n",
       "        [[ 44,  41,  37],\n",
       "         [ 44,  41,  37],\n",
       "         [ 44,  41,  37],\n",
       "         ...,\n",
       "         [ 88,  89,  73],\n",
       "         [ 88,  89,  73],\n",
       "         [ 84,  85,  69]]],\n",
       "\n",
       "\n",
       "       [[[172, 171, 181],\n",
       "         [172, 171, 181],\n",
       "         [169, 170, 180],\n",
       "         ...,\n",
       "         [254, 254, 254],\n",
       "         [254, 254, 254],\n",
       "         [254, 254, 254]],\n",
       "\n",
       "        [[172, 171, 181],\n",
       "         [172, 171, 181],\n",
       "         [171, 170, 180],\n",
       "         ...,\n",
       "         [254, 254, 254],\n",
       "         [254, 254, 254],\n",
       "         [254, 254, 254]],\n",
       "\n",
       "        [[175, 171, 182],\n",
       "         [173, 172, 182],\n",
       "         [172, 171, 181],\n",
       "         ...,\n",
       "         [254, 254, 254],\n",
       "         [254, 254, 254],\n",
       "         [254, 254, 254]],\n",
       "\n",
       "        ...,\n",
       "\n",
       "        [[ 39,  39,  33],\n",
       "         [ 39,  39,  33],\n",
       "         [ 42,  39,  34],\n",
       "         ...,\n",
       "         [ 94,  96,  74],\n",
       "         [ 96,  99,  77],\n",
       "         [ 94,  97,  75]],\n",
       "\n",
       "        [[ 41,  41,  35],\n",
       "         [ 41,  41,  35],\n",
       "         [ 43,  40,  35],\n",
       "         ...,\n",
       "         [ 93,  95,  73],\n",
       "         [ 94,  96,  74],\n",
       "         [ 90,  93,  68]],\n",
       "\n",
       "        [[ 42,  42,  36],\n",
       "         [ 42,  42,  36],\n",
       "         [ 44,  41,  36],\n",
       "         ...,\n",
       "         [ 91,  93,  71],\n",
       "         [ 90,  93,  68],\n",
       "         [ 84,  87,  62]]],\n",
       "\n",
       "\n",
       "       [[[173, 169, 181],\n",
       "         [170, 166, 178],\n",
       "         [169, 165, 177],\n",
       "         ...,\n",
       "         [254, 254, 254],\n",
       "         [254, 254, 254],\n",
       "         [254, 254, 254]],\n",
       "\n",
       "        [[175, 171, 183],\n",
       "         [172, 168, 180],\n",
       "         [171, 167, 179],\n",
       "         ...,\n",
       "         [254, 254, 254],\n",
       "         [254, 254, 254],\n",
       "         [254, 254, 254]],\n",
       "\n",
       "        [[175, 169, 180],\n",
       "         [173, 167, 178],\n",
       "         [169, 165, 177],\n",
       "         ...,\n",
       "         [254, 254, 254],\n",
       "         [254, 254, 254],\n",
       "         [254, 254, 254]],\n",
       "\n",
       "        ...,\n",
       "\n",
       "        [[ 42,  37,  34],\n",
       "         [ 42,  37,  34],\n",
       "         [ 42,  37,  34],\n",
       "         ...,\n",
       "         [ 96,  95,  75],\n",
       "         [ 99,  98,  78],\n",
       "         [ 97,  96,  75]],\n",
       "\n",
       "        [[ 43,  40,  36],\n",
       "         [ 43,  40,  36],\n",
       "         [ 43,  40,  36],\n",
       "         ...,\n",
       "         [ 94,  93,  72],\n",
       "         [ 96,  93,  72],\n",
       "         [ 93,  91,  67]],\n",
       "\n",
       "        [[ 45,  42,  38],\n",
       "         [ 44,  41,  37],\n",
       "         [ 44,  41,  37],\n",
       "         ...,\n",
       "         [ 90,  89,  68],\n",
       "         [ 91,  89,  65],\n",
       "         [ 86,  84,  60]]],\n",
       "\n",
       "\n",
       "       ...,\n",
       "\n",
       "\n",
       "       [[[164, 159, 180],\n",
       "         [163, 158, 179],\n",
       "         [162, 157, 178],\n",
       "         ...,\n",
       "         [233, 238, 241],\n",
       "         [234, 234, 240],\n",
       "         [236, 236, 242]],\n",
       "\n",
       "        [[166, 161, 182],\n",
       "         [165, 160, 181],\n",
       "         [163, 158, 179],\n",
       "         ...,\n",
       "         [235, 240, 243],\n",
       "         [237, 237, 243],\n",
       "         [238, 238, 244]],\n",
       "\n",
       "        [[166, 161, 182],\n",
       "         [165, 160, 181],\n",
       "         [163, 158, 179],\n",
       "         ...,\n",
       "         [236, 241, 244],\n",
       "         [238, 238, 244],\n",
       "         [239, 239, 245]],\n",
       "\n",
       "        ...,\n",
       "\n",
       "        [[ 38,  40,  34],\n",
       "         [ 36,  38,  32],\n",
       "         [ 38,  38,  32],\n",
       "         ...,\n",
       "         [ 86,  85,  75],\n",
       "         [ 89,  87,  77],\n",
       "         [ 86,  84,  74]],\n",
       "\n",
       "        [[ 41,  41,  35],\n",
       "         [ 40,  40,  34],\n",
       "         [ 42,  39,  34],\n",
       "         ...,\n",
       "         [ 87,  86,  76],\n",
       "         [ 90,  88,  78],\n",
       "         [ 89,  84,  75]],\n",
       "\n",
       "        [[ 42,  42,  36],\n",
       "         [ 41,  41,  35],\n",
       "         [ 44,  40,  35],\n",
       "         ...,\n",
       "         [ 87,  86,  76],\n",
       "         [ 92,  87,  78],\n",
       "         [ 89,  84,  75]]],\n",
       "\n",
       "\n",
       "       [[[168, 159, 179],\n",
       "         [168, 159, 179],\n",
       "         [164, 158, 177],\n",
       "         ...,\n",
       "         [236, 241, 242],\n",
       "         [234, 238, 239],\n",
       "         [234, 238, 239]],\n",
       "\n",
       "        [[169, 160, 180],\n",
       "         [166, 160, 179],\n",
       "         [165, 159, 178],\n",
       "         ...,\n",
       "         [235, 240, 241],\n",
       "         [234, 238, 239],\n",
       "         [234, 238, 239]],\n",
       "\n",
       "        [[168, 162, 181],\n",
       "         [167, 161, 180],\n",
       "         [166, 160, 179],\n",
       "         ...,\n",
       "         [236, 241, 242],\n",
       "         [235, 239, 240],\n",
       "         [234, 238, 239]],\n",
       "\n",
       "        ...,\n",
       "\n",
       "        [[ 33,  35,  29],\n",
       "         [ 35,  37,  31],\n",
       "         [ 39,  39,  33],\n",
       "         ...,\n",
       "         [ 88,  90,  78],\n",
       "         [ 94,  94,  82],\n",
       "         [ 92,  92,  80]],\n",
       "\n",
       "        [[ 37,  39,  33],\n",
       "         [ 38,  40,  34],\n",
       "         [ 41,  41,  35],\n",
       "         ...,\n",
       "         [ 88,  90,  78],\n",
       "         [ 91,  91,  79],\n",
       "         [ 87,  85,  74]],\n",
       "\n",
       "        [[ 40,  42,  36],\n",
       "         [ 40,  42,  36],\n",
       "         [ 42,  42,  36],\n",
       "         ...,\n",
       "         [ 86,  88,  76],\n",
       "         [ 87,  85,  74],\n",
       "         [ 80,  78,  67]]],\n",
       "\n",
       "\n",
       "       [[[170, 161, 182],\n",
       "         [168, 159, 180],\n",
       "         [165, 158, 179],\n",
       "         ...,\n",
       "         [236, 241, 244],\n",
       "         [234, 238, 243],\n",
       "         [234, 238, 243]],\n",
       "\n",
       "        [[169, 160, 181],\n",
       "         [168, 159, 180],\n",
       "         [164, 157, 178],\n",
       "         ...,\n",
       "         [236, 241, 244],\n",
       "         [235, 239, 244],\n",
       "         [235, 239, 244]],\n",
       "\n",
       "        [[170, 161, 182],\n",
       "         [168, 159, 180],\n",
       "         [165, 158, 179],\n",
       "         ...,\n",
       "         [236, 241, 244],\n",
       "         [236, 240, 245],\n",
       "         [236, 240, 245]],\n",
       "\n",
       "        ...,\n",
       "\n",
       "        [[ 34,  37,  35],\n",
       "         [ 35,  38,  36],\n",
       "         [ 39,  40,  36],\n",
       "         ...,\n",
       "         [ 90,  88,  78],\n",
       "         [ 94,  92,  82],\n",
       "         [ 92,  90,  80]],\n",
       "\n",
       "        [[ 31,  38,  35],\n",
       "         [ 33,  40,  37],\n",
       "         [ 35,  41,  36],\n",
       "         ...,\n",
       "         [ 89,  87,  77],\n",
       "         [ 94,  90,  79],\n",
       "         [ 90,  86,  75]],\n",
       "\n",
       "        [[ 28,  37,  34],\n",
       "         [ 29,  38,  35],\n",
       "         [ 34,  40,  35],\n",
       "         ...,\n",
       "         [ 89,  87,  77],\n",
       "         [ 92,  88,  77],\n",
       "         [ 87,  83,  72]]]], dtype=uint8)"
      ]
     },
     "execution_count": 8,
     "metadata": {},
     "output_type": "execute_result"
    }
   ],
   "source": [
    "video_data[0] # this is first video"
   ]
  },
  {
   "cell_type": "code",
   "execution_count": 9,
   "id": "306ba318",
   "metadata": {},
   "outputs": [
    {
     "data": {
      "text/plain": [
       "(160, 480, 640, 3)"
      ]
     },
     "execution_count": 9,
     "metadata": {},
     "output_type": "execute_result"
    }
   ],
   "source": [
    "video_data[0].shape"
   ]
  },
  {
   "cell_type": "code",
   "execution_count": 10,
   "id": "afe49199",
   "metadata": {},
   "outputs": [],
   "source": [
    "sliced_videos = []\n",
    "for video in video_data:\n",
    "    # Calculate the step size\n",
    "    num_frames = video.shape[0]\n",
    "    step = num_frames / min_frames  # Compute interval step\n",
    "\n",
    "    # Select frames at regular intervals\n",
    "    selected_indices = np.round(np.arange(0, num_frames, step)).astype(int)[:min_frames] # extracts indices\n",
    "    sliced_video = video[selected_indices] #slices the video\n",
    "    sliced_videos.append(sliced_video) # adds sliced video to list\n",
    "        "
   ]
  },
  {
   "cell_type": "code",
   "execution_count": 11,
   "id": "df4d3937",
   "metadata": {},
   "outputs": [
    {
     "data": {
      "text/plain": [
       "(55, 480, 640, 3)"
      ]
     },
     "execution_count": 11,
     "metadata": {},
     "output_type": "execute_result"
    }
   ],
   "source": [
    "sliced_videos[29].shape"
   ]
  },
  {
   "cell_type": "code",
   "execution_count": 12,
   "id": "52c55306",
   "metadata": {},
   "outputs": [],
   "source": [
    "sliced_videos = np.array(sliced_videos)"
   ]
  },
  {
   "cell_type": "code",
   "execution_count": 13,
   "id": "33257de2",
   "metadata": {},
   "outputs": [
    {
     "data": {
      "text/plain": [
       "(30, 55, 480, 640, 3)"
      ]
     },
     "execution_count": 13,
     "metadata": {},
     "output_type": "execute_result"
    }
   ],
   "source": [
    "sliced_videos.shape"
   ]
  },
  {
   "cell_type": "code",
   "execution_count": 14,
   "id": "52617e73-95ab-419e-b465-ead87542861c",
   "metadata": {},
   "outputs": [],
   "source": [
    "# Load MoveNet model\n",
    "interpreter = tf.lite.Interpreter(model_path=r\"E:\\jupyter notebook\\3.tflite\")\n",
    "interpreter.allocate_tensors()\n",
    "\n",
    "input_details = interpreter.get_input_details()\n",
    "output_details = interpreter.get_output_details()\n",
    "\n",
    "# Function to run MoveNet on an image\n",
    "def run_movenet(image):\n",
    "    image_resized = cv2.resize(image, (192, 192))  # Resize to model input\n",
    "    image_resized = np.expand_dims(image_resized, axis=0).astype(np.float32) / 255.0  # Normalize\n",
    "\n",
    "    interpreter.set_tensor(input_details[0]['index'], image_resized)\n",
    "    interpreter.invoke()\n",
    "    \n",
    "    keypoints = interpreter.get_tensor(output_details[0]['index'])[0][0][:, :2]  # (17,2)\n",
    "    return keypoints\n",
    "\n",
    "# Process video frames\n",
    "def process_videos(video_frames):\n",
    "    num_videos, num_frames, _, _, _ = video_frames.shape\n",
    "    keypoints_data = np.zeros((num_videos, 17 * 2 * num_frames))  # Shape (30, 1870)\n",
    "\n",
    "    for v in range(num_videos):\n",
    "        video_keypoints = []\n",
    "        for f in range(num_frames):\n",
    "            keypoints = run_movenet(video_frames[v, f])  # (17, 2)\n",
    "            video_keypoints.append(keypoints.flatten())  # Flatten to (34,)\n",
    "\n",
    "        keypoints_data[v] = np.concatenate(video_keypoints)  # Flattened shape (1870,)\n",
    "\n",
    "    return keypoints_data\n"
   ]
  },
  {
   "cell_type": "code",
   "execution_count": 15,
   "id": "66370b04-f46b-479c-95b0-ff44f208dcda",
   "metadata": {},
   "outputs": [],
   "source": [
    "pro_video=process_videos(sliced_videos)"
   ]
  },
  {
   "cell_type": "code",
   "execution_count": 16,
   "id": "c7cd741c",
   "metadata": {},
   "outputs": [
    {
     "data": {
      "text/plain": [
       "(30, 1870)"
      ]
     },
     "execution_count": 16,
     "metadata": {},
     "output_type": "execute_result"
    }
   ],
   "source": [
    "pro_video.shape"
   ]
  },
  {
   "cell_type": "code",
   "execution_count": 18,
   "id": "f7183860-b6e5-4157-a146-874f429eb483",
   "metadata": {},
   "outputs": [
    {
     "data": {
      "text/plain": [
       "array([['0.7133227586746216', '0.16475749015808105',\n",
       "        '0.7013038396835327', ..., '0.6213837265968323',\n",
       "        '0.3814561069011688', 'fall-01-cam0-rgb'],\n",
       "       ['0.7133110761642456', '0.1654997020959854', '0.7011114954948425',\n",
       "        ..., '0.6200836300849915', '0.38198322057724',\n",
       "        'fall-02-cam0-rgb'],\n",
       "       ['0.7134003639221191', '0.16458655893802643',\n",
       "        '0.7013654112815857', ..., '0.6211385726928711',\n",
       "        '0.3819645345211029', 'fall-03-cam0-rgb'],\n",
       "       ...,\n",
       "       ['0.7168795466423035', '0.169572114944458', '0.6867665648460388',\n",
       "        ..., '0.6197090148925781', '0.383663535118103',\n",
       "        'fall-28-cam0-rgb'],\n",
       "       ['0.7168178558349609', '0.1675603985786438', '0.6864893436431885',\n",
       "        ..., '0.6197540163993835', '0.38353031873703003',\n",
       "        'fall-29-cam0-rgb'],\n",
       "       ['0.7164229154586792', '0.16956260800361633',\n",
       "        '0.6862401962280273', ..., '0.619764506816864',\n",
       "        '0.38358208537101746', 'fall-30-cam0-rgb']], dtype='<U32')"
      ]
     },
     "execution_count": 18,
     "metadata": {},
     "output_type": "execute_result"
    }
   ],
   "source": [
    "# Combine labels and data\n",
    "data_with_labels = np.column_stack((pro_video,labels))\n",
    "data_with_labels"
   ]
  },
  {
   "cell_type": "code",
   "execution_count": 19,
   "id": "71809c27-b6e6-4bb3-abe3-15fa303f83a8",
   "metadata": {},
   "outputs": [
    {
     "name": "stdout",
     "output_type": "stream",
     "text": [
      "CSV file saved successfully.\n"
     ]
    }
   ],
   "source": [
    "np.savetxt(\"output3.csv\", data_with_labels, delimiter=\",\", fmt=\"%s\")\n",
    "\n",
    "print(\"CSV file saved successfully.\")"
   ]
  },
  {
   "cell_type": "code",
   "execution_count": 20,
   "id": "0fe7b279-2c66-46d8-9eaf-2972449e7123",
   "metadata": {},
   "outputs": [],
   "source": [
    "import pandas as pd"
   ]
  },
  {
   "cell_type": "code",
   "execution_count": 21,
   "id": "b4aa8d8c-f918-4fc1-a214-3aa07cd767da",
   "metadata": {},
   "outputs": [],
   "source": [
    "dataset = pd.read_csv(\"output3.csv\",header=None)"
   ]
  },
  {
   "cell_type": "code",
   "execution_count": 22,
   "id": "52be02cf-de44-4048-ac83-5212d1fe6ba0",
   "metadata": {},
   "outputs": [
    {
     "data": {
      "text/html": [
       "<div>\n",
       "<style scoped>\n",
       "    .dataframe tbody tr th:only-of-type {\n",
       "        vertical-align: middle;\n",
       "    }\n",
       "\n",
       "    .dataframe tbody tr th {\n",
       "        vertical-align: top;\n",
       "    }\n",
       "\n",
       "    .dataframe thead th {\n",
       "        text-align: right;\n",
       "    }\n",
       "</style>\n",
       "<table border=\"1\" class=\"dataframe\">\n",
       "  <thead>\n",
       "    <tr style=\"text-align: right;\">\n",
       "      <th></th>\n",
       "      <th>0</th>\n",
       "      <th>1</th>\n",
       "      <th>2</th>\n",
       "      <th>3</th>\n",
       "      <th>4</th>\n",
       "      <th>5</th>\n",
       "      <th>6</th>\n",
       "      <th>7</th>\n",
       "      <th>8</th>\n",
       "      <th>9</th>\n",
       "      <th>...</th>\n",
       "      <th>1861</th>\n",
       "      <th>1862</th>\n",
       "      <th>1863</th>\n",
       "      <th>1864</th>\n",
       "      <th>1865</th>\n",
       "      <th>1866</th>\n",
       "      <th>1867</th>\n",
       "      <th>1868</th>\n",
       "      <th>1869</th>\n",
       "      <th>1870</th>\n",
       "    </tr>\n",
       "  </thead>\n",
       "  <tbody>\n",
       "    <tr>\n",
       "      <th>0</th>\n",
       "      <td>0.713323</td>\n",
       "      <td>0.164757</td>\n",
       "      <td>0.701304</td>\n",
       "      <td>0.186173</td>\n",
       "      <td>0.603872</td>\n",
       "      <td>0.501781</td>\n",
       "      <td>0.552190</td>\n",
       "      <td>0.355947</td>\n",
       "      <td>0.489820</td>\n",
       "      <td>0.544001</td>\n",
       "      <td>...</td>\n",
       "      <td>0.414629</td>\n",
       "      <td>0.590906</td>\n",
       "      <td>0.568317</td>\n",
       "      <td>0.562365</td>\n",
       "      <td>0.367789</td>\n",
       "      <td>0.641429</td>\n",
       "      <td>0.971560</td>\n",
       "      <td>0.621384</td>\n",
       "      <td>0.381456</td>\n",
       "      <td>fall-01-cam0-rgb</td>\n",
       "    </tr>\n",
       "    <tr>\n",
       "      <th>1</th>\n",
       "      <td>0.713311</td>\n",
       "      <td>0.165500</td>\n",
       "      <td>0.701111</td>\n",
       "      <td>0.186969</td>\n",
       "      <td>0.647033</td>\n",
       "      <td>0.010800</td>\n",
       "      <td>0.552291</td>\n",
       "      <td>0.357098</td>\n",
       "      <td>0.469514</td>\n",
       "      <td>0.542455</td>\n",
       "      <td>...</td>\n",
       "      <td>0.416321</td>\n",
       "      <td>0.590961</td>\n",
       "      <td>0.568286</td>\n",
       "      <td>0.561157</td>\n",
       "      <td>0.368119</td>\n",
       "      <td>0.641389</td>\n",
       "      <td>0.971350</td>\n",
       "      <td>0.620084</td>\n",
       "      <td>0.381983</td>\n",
       "      <td>fall-02-cam0-rgb</td>\n",
       "    </tr>\n",
       "    <tr>\n",
       "      <th>2</th>\n",
       "      <td>0.713400</td>\n",
       "      <td>0.164587</td>\n",
       "      <td>0.701365</td>\n",
       "      <td>0.185978</td>\n",
       "      <td>0.603724</td>\n",
       "      <td>0.501218</td>\n",
       "      <td>0.552267</td>\n",
       "      <td>0.355447</td>\n",
       "      <td>0.468900</td>\n",
       "      <td>0.542743</td>\n",
       "      <td>...</td>\n",
       "      <td>0.414835</td>\n",
       "      <td>0.590553</td>\n",
       "      <td>0.569103</td>\n",
       "      <td>0.561606</td>\n",
       "      <td>0.367483</td>\n",
       "      <td>0.641407</td>\n",
       "      <td>0.971463</td>\n",
       "      <td>0.621139</td>\n",
       "      <td>0.381965</td>\n",
       "      <td>fall-03-cam0-rgb</td>\n",
       "    </tr>\n",
       "    <tr>\n",
       "      <th>3</th>\n",
       "      <td>0.713343</td>\n",
       "      <td>0.165221</td>\n",
       "      <td>0.701165</td>\n",
       "      <td>0.186709</td>\n",
       "      <td>0.647200</td>\n",
       "      <td>0.010567</td>\n",
       "      <td>0.552450</td>\n",
       "      <td>0.356670</td>\n",
       "      <td>0.449069</td>\n",
       "      <td>0.542097</td>\n",
       "      <td>...</td>\n",
       "      <td>0.416314</td>\n",
       "      <td>0.591111</td>\n",
       "      <td>0.567495</td>\n",
       "      <td>0.561815</td>\n",
       "      <td>0.368866</td>\n",
       "      <td>0.641391</td>\n",
       "      <td>0.971454</td>\n",
       "      <td>0.620209</td>\n",
       "      <td>0.382163</td>\n",
       "      <td>fall-04-cam0-rgb</td>\n",
       "    </tr>\n",
       "    <tr>\n",
       "      <th>4</th>\n",
       "      <td>0.713286</td>\n",
       "      <td>0.164676</td>\n",
       "      <td>0.701260</td>\n",
       "      <td>0.186067</td>\n",
       "      <td>0.603808</td>\n",
       "      <td>0.501849</td>\n",
       "      <td>0.552240</td>\n",
       "      <td>0.355974</td>\n",
       "      <td>0.489868</td>\n",
       "      <td>0.544099</td>\n",
       "      <td>...</td>\n",
       "      <td>0.413926</td>\n",
       "      <td>0.590713</td>\n",
       "      <td>0.568685</td>\n",
       "      <td>0.562874</td>\n",
       "      <td>0.367234</td>\n",
       "      <td>0.641285</td>\n",
       "      <td>0.971314</td>\n",
       "      <td>0.607210</td>\n",
       "      <td>0.384894</td>\n",
       "      <td>fall-05-cam0-rgb</td>\n",
       "    </tr>\n",
       "  </tbody>\n",
       "</table>\n",
       "<p>5 rows × 1871 columns</p>\n",
       "</div>"
      ],
      "text/plain": [
       "       0         1         2         3         4         5         6     \\\n",
       "0  0.713323  0.164757  0.701304  0.186173  0.603872  0.501781  0.552190   \n",
       "1  0.713311  0.165500  0.701111  0.186969  0.647033  0.010800  0.552291   \n",
       "2  0.713400  0.164587  0.701365  0.185978  0.603724  0.501218  0.552267   \n",
       "3  0.713343  0.165221  0.701165  0.186709  0.647200  0.010567  0.552450   \n",
       "4  0.713286  0.164676  0.701260  0.186067  0.603808  0.501849  0.552240   \n",
       "\n",
       "       7         8         9     ...      1861      1862      1863      1864  \\\n",
       "0  0.355947  0.489820  0.544001  ...  0.414629  0.590906  0.568317  0.562365   \n",
       "1  0.357098  0.469514  0.542455  ...  0.416321  0.590961  0.568286  0.561157   \n",
       "2  0.355447  0.468900  0.542743  ...  0.414835  0.590553  0.569103  0.561606   \n",
       "3  0.356670  0.449069  0.542097  ...  0.416314  0.591111  0.567495  0.561815   \n",
       "4  0.355974  0.489868  0.544099  ...  0.413926  0.590713  0.568685  0.562874   \n",
       "\n",
       "       1865      1866      1867      1868      1869              1870  \n",
       "0  0.367789  0.641429  0.971560  0.621384  0.381456  fall-01-cam0-rgb  \n",
       "1  0.368119  0.641389  0.971350  0.620084  0.381983  fall-02-cam0-rgb  \n",
       "2  0.367483  0.641407  0.971463  0.621139  0.381965  fall-03-cam0-rgb  \n",
       "3  0.368866  0.641391  0.971454  0.620209  0.382163  fall-04-cam0-rgb  \n",
       "4  0.367234  0.641285  0.971314  0.607210  0.384894  fall-05-cam0-rgb  \n",
       "\n",
       "[5 rows x 1871 columns]"
      ]
     },
     "execution_count": 22,
     "metadata": {},
     "output_type": "execute_result"
    }
   ],
   "source": [
    "dataset.head()"
   ]
  },
  {
   "cell_type": "code",
   "execution_count": 38,
   "id": "6486563a-ca32-4dda-a56d-b7c1bf59b48c",
   "metadata": {},
   "outputs": [
    {
     "data": {
      "text/plain": [
       "(30,)"
      ]
     },
     "execution_count": 38,
     "metadata": {},
     "output_type": "execute_result"
    }
   ],
   "source": [
    "np.unique(data_with_labels[:,-1]).shape"
   ]
  },
  {
   "cell_type": "code",
   "execution_count": null,
   "id": "50a3bf15-3e6d-4e49-a270-050629368a59",
   "metadata": {},
   "outputs": [],
   "source": []
  }
 ],
 "metadata": {
  "kernelspec": {
   "display_name": "Python 3 (ipykernel)",
   "language": "python",
   "name": "python3"
  },
  "language_info": {
   "codemirror_mode": {
    "name": "ipython",
    "version": 3
   },
   "file_extension": ".py",
   "mimetype": "text/x-python",
   "name": "python",
   "nbconvert_exporter": "python",
   "pygments_lexer": "ipython3",
   "version": "3.12.3"
  }
 },
 "nbformat": 4,
 "nbformat_minor": 5
}
