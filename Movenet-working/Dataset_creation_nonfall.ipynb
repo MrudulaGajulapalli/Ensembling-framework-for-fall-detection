{
 "cells": [
  {
   "cell_type": "code",
   "execution_count": 7,
   "id": "123ad2f1",
   "metadata": {},
   "outputs": [],
   "source": [
    "import os\n",
    "import pandas as pd\n",
    "import numpy as np\n",
    "import cv2\n",
    "import matplotlib.pyplot as plt"
   ]
  },
  {
   "cell_type": "code",
   "execution_count": 8,
   "id": "0b0066ab",
   "metadata": {},
   "outputs": [],
   "source": [
    "# fall=r\"E:\\Fall Detection Dataset\\fall_cam0\"\n",
    "nonfall=r\"E:\\Fall Detection Dataset\\nonfall_cam1\\nfDatasets\"\n",
    "video_data=[]\n",
    "labels=[]"
   ]
  },
  {
   "cell_type": "code",
   "execution_count": 9,
   "id": "de6032dc",
   "metadata": {},
   "outputs": [],
   "source": [
    "for video_folder in sorted(os.listdir(nonfall)):\n",
    "    video_path = os.path.join(nonfall, video_folder)\n",
    "    \n",
    "    if not os.path.isdir(video_path):\n",
    "        continue  # Skip if it's not a folder\n",
    "    \n",
    "    frames = []\n",
    "    \n",
    "    # Iterate through frames (images) in sorted order\n",
    "    for frame in sorted(os.listdir(video_path)):\n",
    "        frame_path = os.path.join(video_path, frame)\n",
    "        \n",
    "        if frame_path.lower().endswith(('.png', '.jpg', '.jpeg')):\n",
    "            img = cv2.imread(frame_path)  # Read image\n",
    "            #img = cv2.resize(img, frame_size)  # Resize (optional)\n",
    "            #img = cv2.cvtColor(img, cv2.COLOR_BGR2RGB)  # Convert BGR to RGB\n",
    "            frames.append(img)\n",
    "    \n",
    "    if frames:  # If frames were found\n",
    "        video_array = np.array(frames)  # Convert list to NumPy array\n",
    "        video_data.append(video_array)  # Append to dataset\n",
    "        labels.append(video_folder)  # Store the folder name as label\n"
   ]
  },
  {
   "cell_type": "code",
   "execution_count": 10,
   "id": "33822583-e174-484a-9b2b-f68ea61a963d",
   "metadata": {},
   "outputs": [
    {
     "name": "stdout",
     "output_type": "stream",
     "text": [
      "Total videos loaded: 40\n",
      "Shape of first video: (150, 480, 640, 3)\n"
     ]
    }
   ],
   "source": [
    "\n",
    "# Convert to NumPy arrays\n",
    "#video_data = np.array(video_data, dtype=object)  # Each video has a different number of frames\n",
    "labels = np.array(labels)\n",
    "\n",
    "print(f\"Total videos loaded: {len(video_data)}\")\n",
    "print(f\"Shape of first video: {video_data[0].shape}\")"
   ]
  },
  {
   "cell_type": "code",
   "execution_count": 11,
   "id": "d5d66576",
   "metadata": {},
   "outputs": [
    {
     "data": {
      "text/plain": [
       "55"
      ]
     },
     "execution_count": 11,
     "metadata": {},
     "output_type": "execute_result"
    }
   ],
   "source": [
    "min_frames=min(video.shape[0] for video in video_data)\n",
    "min_frames"
   ]
  },
  {
   "cell_type": "code",
   "execution_count": 12,
   "id": "3e6e26de",
   "metadata": {},
   "outputs": [
    {
     "data": {
      "text/plain": [
       "40"
      ]
     },
     "execution_count": 12,
     "metadata": {},
     "output_type": "execute_result"
    }
   ],
   "source": [
    "len(video_data)"
   ]
  },
  {
   "cell_type": "code",
   "execution_count": 13,
   "id": "8eb5f49a",
   "metadata": {},
   "outputs": [
    {
     "data": {
      "text/plain": [
       "array([[[[ 0,  0,  6],\n",
       "         [ 6,  5, 14],\n",
       "         [ 0,  0,  7],\n",
       "         ...,\n",
       "         [ 0,  1,  3],\n",
       "         [ 2,  0,  8],\n",
       "         [ 4,  0,  6]],\n",
       "\n",
       "        [[ 0,  2, 10],\n",
       "         [42, 41, 50],\n",
       "         [46, 42, 53],\n",
       "         ...,\n",
       "         [73, 79, 84],\n",
       "         [60, 57, 66],\n",
       "         [ 9,  1, 11]],\n",
       "\n",
       "        [[ 0,  0,  6],\n",
       "         [43, 45, 53],\n",
       "         [48, 42, 53],\n",
       "         ...,\n",
       "         [62, 59, 68],\n",
       "         [63, 58, 67],\n",
       "         [ 2,  0,  6]],\n",
       "\n",
       "        ...,\n",
       "\n",
       "        [[ 4,  0,  3],\n",
       "         [ 9,  8, 17],\n",
       "         [ 0,  0, 11],\n",
       "         ...,\n",
       "         [ 7,  0,  0],\n",
       "         [ 5,  0,  0],\n",
       "         [ 5,  0,  0]],\n",
       "\n",
       "        [[ 5,  0,  0],\n",
       "         [ 1,  1,  1],\n",
       "         [ 0,  0,  6],\n",
       "         ...,\n",
       "         [ 0,  0,  0],\n",
       "         [ 0,  1,  1],\n",
       "         [ 0,  1,  0]],\n",
       "\n",
       "        [[10,  6,  1],\n",
       "         [ 2,  0,  0],\n",
       "         [ 0,  1,  4],\n",
       "         ...,\n",
       "         [ 0,  1,  0],\n",
       "         [ 0,  2,  1],\n",
       "         [ 0,  2,  1]]],\n",
       "\n",
       "\n",
       "       [[[ 9,  0,  1],\n",
       "         [18,  7, 10],\n",
       "         [ 9,  0,  4],\n",
       "         ...,\n",
       "         [ 2,  0,  0],\n",
       "         [ 5,  6,  4],\n",
       "         [ 0,  1,  0]],\n",
       "\n",
       "        [[ 5,  1,  6],\n",
       "         [44, 40, 45],\n",
       "         [52, 48, 54],\n",
       "         ...,\n",
       "         [77, 72, 71],\n",
       "         [66, 61, 62],\n",
       "         [ 9,  7,  6]],\n",
       "\n",
       "        [[ 0,  0,  4],\n",
       "         [35, 46, 50],\n",
       "         [43, 53, 60],\n",
       "         ...,\n",
       "         [71, 58, 60],\n",
       "         [75, 64, 67],\n",
       "         [ 7,  0,  0]],\n",
       "\n",
       "        ...,\n",
       "\n",
       "        [[ 0,  0,  4],\n",
       "         [ 6,  8, 16],\n",
       "         [ 0,  0, 11],\n",
       "         ...,\n",
       "         [ 6,  2,  1],\n",
       "         [ 8,  3,  2],\n",
       "         [ 5,  0,  0]],\n",
       "\n",
       "        [[13,  2,  4],\n",
       "         [ 5,  0,  1],\n",
       "         [ 0,  0,  6],\n",
       "         ...,\n",
       "         [ 2,  0,  0],\n",
       "         [ 8,  4,  3],\n",
       "         [ 5,  1,  0]],\n",
       "\n",
       "        [[15,  0,  0],\n",
       "         [ 9,  0,  0],\n",
       "         [ 7,  3,  9],\n",
       "         ...,\n",
       "         [ 0,  1,  0],\n",
       "         [ 4,  0,  0],\n",
       "         [ 4,  0,  0]]],\n",
       "\n",
       "\n",
       "       [[[ 7,  0,  0],\n",
       "         [13,  5,  6],\n",
       "         [ 9,  0,  1],\n",
       "         ...,\n",
       "         [ 2,  0,  6],\n",
       "         [ 7,  3, 15],\n",
       "         [ 0,  0,  8]],\n",
       "\n",
       "        [[10,  3,  6],\n",
       "         [55, 46, 49],\n",
       "         [61, 50, 53],\n",
       "         ...,\n",
       "         [73, 64, 74],\n",
       "         [67, 59, 70],\n",
       "         [13,  5, 16]],\n",
       "\n",
       "        [[ 4,  0,  3],\n",
       "         [54, 47, 52],\n",
       "         [63, 53, 59],\n",
       "         ...,\n",
       "         [68, 52, 63],\n",
       "         [76, 59, 70],\n",
       "         [12,  0,  6]],\n",
       "\n",
       "        ...,\n",
       "\n",
       "        [[ 0,  0,  4],\n",
       "         [ 0,  8, 15],\n",
       "         [ 0,  0,  8],\n",
       "         ...,\n",
       "         [ 4,  0,  0],\n",
       "         [ 8,  0,  1],\n",
       "         [ 7,  0,  0]],\n",
       "\n",
       "        [[12,  4,  5],\n",
       "         [ 5,  0,  1],\n",
       "         [ 4,  0,  4],\n",
       "         ...,\n",
       "         [ 0,  0,  0],\n",
       "         [ 5,  0,  1],\n",
       "         [ 5,  0,  1]],\n",
       "\n",
       "        [[15,  0,  0],\n",
       "         [12,  0,  0],\n",
       "         [15,  4,  7],\n",
       "         ...,\n",
       "         [ 0,  0,  0],\n",
       "         [ 2,  0,  0],\n",
       "         [ 4,  2,  2]]],\n",
       "\n",
       "\n",
       "       ...,\n",
       "\n",
       "\n",
       "       [[[16,  0,  6],\n",
       "         [19,  0,  9],\n",
       "         [11,  0,  3],\n",
       "         ...,\n",
       "         [ 1,  0, 11],\n",
       "         [ 7,  0, 11],\n",
       "         [ 5,  0,  8]],\n",
       "\n",
       "        [[16,  0, 12],\n",
       "         [58, 42, 53],\n",
       "         [62, 52, 58],\n",
       "         ...,\n",
       "         [78, 74, 86],\n",
       "         [64, 54, 67],\n",
       "         [11,  0, 12]],\n",
       "\n",
       "        [[ 2,  0,  8],\n",
       "         [52, 46, 57],\n",
       "         [60, 56, 62],\n",
       "         ...,\n",
       "         [63, 56, 69],\n",
       "         [69, 57, 69],\n",
       "         [11,  0,  7]],\n",
       "\n",
       "        ...,\n",
       "\n",
       "        [[ 0,  0,  7],\n",
       "         [ 5,  9, 20],\n",
       "         [ 0,  0, 14],\n",
       "         ...,\n",
       "         [ 4,  0,  0],\n",
       "         [ 7,  0,  3],\n",
       "         [ 5,  0,  1]],\n",
       "\n",
       "        [[ 6,  1,  2],\n",
       "         [ 4,  0,  3],\n",
       "         [ 5,  0,  8],\n",
       "         ...,\n",
       "         [ 0,  0,  1],\n",
       "         [ 2,  3,  7],\n",
       "         [ 0,  0,  3]],\n",
       "\n",
       "        [[12,  3,  0],\n",
       "         [ 9,  0,  0],\n",
       "         [16,  0,  8],\n",
       "         ...,\n",
       "         [ 0,  0,  1],\n",
       "         [ 0,  1,  5],\n",
       "         [ 0,  0,  3]]],\n",
       "\n",
       "\n",
       "       [[[ 4,  0,  3],\n",
       "         [13,  6, 11],\n",
       "         [ 9,  0,  3],\n",
       "         ...,\n",
       "         [ 0,  2,  0],\n",
       "         [ 9,  4,  1],\n",
       "         [11,  0,  0]],\n",
       "\n",
       "        [[ 8,  1,  8],\n",
       "         [49, 43, 48],\n",
       "         [62, 49, 57],\n",
       "         ...,\n",
       "         [71, 76, 75],\n",
       "         [69, 63, 64],\n",
       "         [16,  6,  6]],\n",
       "\n",
       "        [[ 2,  0,  6],\n",
       "         [52, 48, 54],\n",
       "         [62, 51, 61],\n",
       "         ...,\n",
       "         [71, 60, 68],\n",
       "         [71, 64, 69],\n",
       "         [ 4,  0,  3]],\n",
       "\n",
       "        ...,\n",
       "\n",
       "        [[ 0,  0,  4],\n",
       "         [11,  8, 17],\n",
       "         [ 0,  0,  8],\n",
       "         ...,\n",
       "         [ 5,  0,  0],\n",
       "         [ 5,  0,  0],\n",
       "         [ 5,  0,  0]],\n",
       "\n",
       "        [[ 0,  8,  2],\n",
       "         [ 0,  2,  0],\n",
       "         [ 2,  0,  1],\n",
       "         ...,\n",
       "         [ 0,  0,  0],\n",
       "         [ 0,  2,  2],\n",
       "         [ 0,  3,  2]],\n",
       "\n",
       "        [[ 0,  7,  0],\n",
       "         [ 0,  5,  0],\n",
       "         [ 7,  3,  2],\n",
       "         ...,\n",
       "         [ 0,  1,  0],\n",
       "         [ 0,  1,  0],\n",
       "         [ 0,  1,  0]]],\n",
       "\n",
       "\n",
       "       [[[ 5,  0,  0],\n",
       "         [11,  5,  6],\n",
       "         [ 7,  0,  1],\n",
       "         ...,\n",
       "         [11,  0,  3],\n",
       "         [21,  2, 11],\n",
       "         [14,  0,  4]],\n",
       "\n",
       "        [[14,  5,  8],\n",
       "         [54, 45, 48],\n",
       "         [58, 49, 52],\n",
       "         ...,\n",
       "         [87, 71, 78],\n",
       "         [82, 63, 72],\n",
       "         [21,  0,  9]],\n",
       "\n",
       "        [[ 9,  0,  3],\n",
       "         [59, 47, 53],\n",
       "         [67, 53, 59],\n",
       "         ...,\n",
       "         [77, 59, 66],\n",
       "         [86, 65, 74],\n",
       "         [18,  0,  4]],\n",
       "\n",
       "        ...,\n",
       "\n",
       "        [[ 0,  0,  6],\n",
       "         [ 1,  6, 15],\n",
       "         [ 0,  0, 13],\n",
       "         ...,\n",
       "         [ 0,  1,  0],\n",
       "         [ 0,  2,  3],\n",
       "         [ 0,  0,  1]],\n",
       "\n",
       "        [[ 1,  6,  4],\n",
       "         [ 0,  1,  0],\n",
       "         [ 0,  0,  4],\n",
       "         ...,\n",
       "         [ 0,  0,  1],\n",
       "         [ 0,  5,  6],\n",
       "         [ 0,  1,  1]],\n",
       "\n",
       "        [[ 0,  4,  0],\n",
       "         [ 0,  4,  0],\n",
       "         [ 0,  3,  3],\n",
       "         ...,\n",
       "         [ 0,  0,  1],\n",
       "         [ 0,  2,  3],\n",
       "         [ 0,  1,  1]]]], dtype=uint8)"
      ]
     },
     "execution_count": 13,
     "metadata": {},
     "output_type": "execute_result"
    }
   ],
   "source": [
    "video_data[0] # this is first video"
   ]
  },
  {
   "cell_type": "code",
   "execution_count": 14,
   "id": "306ba318",
   "metadata": {},
   "outputs": [
    {
     "data": {
      "text/plain": [
       "(150, 480, 640, 3)"
      ]
     },
     "execution_count": 14,
     "metadata": {},
     "output_type": "execute_result"
    }
   ],
   "source": [
    "video_data[0].shape"
   ]
  },
  {
   "cell_type": "code",
   "execution_count": 15,
   "id": "afe49199",
   "metadata": {},
   "outputs": [],
   "source": [
    "sliced_videos = []\n",
    "for video in video_data:\n",
    "    # Calculate the step size\n",
    "    num_frames = video.shape[0]\n",
    "    step = num_frames / min_frames  # Compute interval step\n",
    "\n",
    "    # Select frames at regular intervals\n",
    "    selected_indices = np.round(np.arange(0, num_frames, step)).astype(int)[:min_frames] # extracts indices\n",
    "    sliced_video = video[selected_indices] #slices the video\n",
    "    sliced_videos.append(sliced_video) # adds sliced video to list\n",
    "        "
   ]
  },
  {
   "cell_type": "code",
   "execution_count": 16,
   "id": "52c55306",
   "metadata": {},
   "outputs": [],
   "source": [
    "sliced_videos = np.array(sliced_videos)"
   ]
  },
  {
   "cell_type": "code",
   "execution_count": 17,
   "id": "33257de2",
   "metadata": {},
   "outputs": [
    {
     "data": {
      "text/plain": [
       "(40, 55, 480, 640, 3)"
      ]
     },
     "execution_count": 17,
     "metadata": {},
     "output_type": "execute_result"
    }
   ],
   "source": [
    "sliced_videos.shape"
   ]
  },
  {
   "cell_type": "code",
   "execution_count": 18,
   "id": "bb9da079-10e0-475a-bb32-4e9d0b42cb77",
   "metadata": {},
   "outputs": [],
   "source": [
    "import tensorflow as tf\n",
    "# Load MoveNet model\n",
    "interpreter = tf.lite.Interpreter(model_path=r\"E:\\jupyter notebook\\3.tflite\")\n",
    "interpreter.allocate_tensors()\n",
    "\n",
    "input_details = interpreter.get_input_details()\n",
    "output_details = interpreter.get_output_details()\n",
    "\n",
    "# Function to run MoveNet on an image\n",
    "def run_movenet(image):\n",
    "    image_resized = cv2.resize(image, (192, 192))  # Resize to model input\n",
    "    image_resized = np.expand_dims(image_resized, axis=0).astype(np.float32) / 255.0  # Normalize\n",
    "\n",
    "    interpreter.set_tensor(input_details[0]['index'], image_resized)\n",
    "    interpreter.invoke()\n",
    "    \n",
    "    keypoints = interpreter.get_tensor(output_details[0]['index'])[0][0][:, :2]  # (17,2)\n",
    "    return keypoints\n",
    "\n",
    "# Process video frames\n",
    "def process_videos(video_frames):\n",
    "    num_videos, num_frames, _, _, _ = video_frames.shape\n",
    "    keypoints_data = np.zeros((num_videos, 17 * 2 * num_frames))  # Shape (30, 1870)\n",
    "\n",
    "    for v in range(num_videos):\n",
    "        video_keypoints = []\n",
    "        for f in range(num_frames):\n",
    "            keypoints = run_movenet(video_frames[v, f])  # (17, 2)\n",
    "            video_keypoints.append(keypoints.flatten())  # Flatten to (34,)\n",
    "\n",
    "        keypoints_data[v] = np.concatenate(video_keypoints)  # Flattened shape (1870,)\n",
    "\n",
    "    return keypoints_data\n",
    "\n",
    "# Example usage\n",
    "# video_frames = np.load(\"path_to_your_numpy_array.npy\")  # Load your video frames\n",
    "# keypoints_output = process_videos(video_frames)  # Output shape (30, 1870)\n"
   ]
  },
  {
   "cell_type": "code",
   "execution_count": 19,
   "id": "d60e4063-c3df-4060-9b2a-cbd245c2e82c",
   "metadata": {},
   "outputs": [],
   "source": [
    "pro_video=process_videos(sliced_videos)"
   ]
  },
  {
   "cell_type": "code",
   "execution_count": 20,
   "id": "054ccf29-3284-4baa-b4f8-bfab2797134f",
   "metadata": {},
   "outputs": [
    {
     "data": {
      "text/plain": [
       "(40, 1870)"
      ]
     },
     "execution_count": 20,
     "metadata": {},
     "output_type": "execute_result"
    }
   ],
   "source": [
    "pro_video.shape"
   ]
  },
  {
   "cell_type": "code",
   "execution_count": 21,
   "id": "f430bab8-8fce-4c19-879b-ab10cd847875",
   "metadata": {},
   "outputs": [
    {
     "data": {
      "text/plain": [
       "array([['0.7104841470718384', '0.15812477469444275',\n",
       "        '0.5714103579521179', ..., '0.6223034858703613',\n",
       "        '0.40069442987442017', 'adl-01-cam0-rgb'],\n",
       "       ['0.710297703742981', '0.1580047309398651', '0.5715748071670532',\n",
       "        ..., '0.6221573948860168', '0.4004218280315399',\n",
       "        'adl-02-cam0-rgb'],\n",
       "       ['0.7106499671936035', '0.15794232487678528',\n",
       "        '0.5714742541313171', ..., '0.6213392615318298',\n",
       "        '0.3996724486351013', 'adl-03-cam0-rgb'],\n",
       "       ...,\n",
       "       ['0.7137655019760132', '0.16608935594558716',\n",
       "        '0.6845018267631531', ..., '0.6226952075958252',\n",
       "        '0.38242313265800476', 'adl-38-cam0-rgb'],\n",
       "       ['0.7138492465019226', '0.16477090120315552',\n",
       "        '0.6844746470451355', ..., '0.6197095513343811',\n",
       "        '0.4000990092754364', 'adl-39-cam0-rgb'],\n",
       "       ['0.713927149772644', '0.16465473175048828', '0.6845023036003113',\n",
       "        ..., '0.6196049451828003', '0.39998704195022583',\n",
       "        'adl-40-cam0-rgb']], dtype='<U32')"
      ]
     },
     "execution_count": 21,
     "metadata": {},
     "output_type": "execute_result"
    }
   ],
   "source": [
    "data_with_labels = np.column_stack((pro_video,labels))\n",
    "data_with_labels"
   ]
  },
  {
   "cell_type": "code",
   "execution_count": 22,
   "id": "d2400e85-cfb7-48ce-853b-4d4e20341a17",
   "metadata": {},
   "outputs": [
    {
     "name": "stdout",
     "output_type": "stream",
     "text": [
      "CSV file saved successfully.\n"
     ]
    }
   ],
   "source": [
    "np.savetxt(\"output4.csv\", data_with_labels, delimiter=\",\", fmt=\"%s\")\n",
    "\n",
    "print(\"CSV file saved successfully.\")"
   ]
  },
  {
   "cell_type": "code",
   "execution_count": null,
   "id": "c7cd741c",
   "metadata": {},
   "outputs": [],
   "source": []
  }
 ],
 "metadata": {
  "kernelspec": {
   "display_name": "Python 3 (ipykernel)",
   "language": "python",
   "name": "python3"
  },
  "language_info": {
   "codemirror_mode": {
    "name": "ipython",
    "version": 3
   },
   "file_extension": ".py",
   "mimetype": "text/x-python",
   "name": "python",
   "nbconvert_exporter": "python",
   "pygments_lexer": "ipython3",
   "version": "3.12.3"
  }
 },
 "nbformat": 4,
 "nbformat_minor": 5
}
