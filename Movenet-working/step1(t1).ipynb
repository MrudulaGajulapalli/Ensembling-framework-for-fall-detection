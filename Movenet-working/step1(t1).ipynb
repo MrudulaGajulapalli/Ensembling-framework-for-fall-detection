{
 "cells": [
  {
   "cell_type": "code",
   "execution_count": 3,
   "id": "9798d8ec-3260-4a5c-a8c9-bcedd26c4897",
   "metadata": {},
   "outputs": [
    {
     "ename": "NameError",
     "evalue": "name 'os' is not defined",
     "output_type": "error",
     "traceback": [
      "\u001b[1;31m---------------------------------------------------------------------------\u001b[0m",
      "\u001b[1;31mNameError\u001b[0m                                 Traceback (most recent call last)",
      "Cell \u001b[1;32mIn[3], line 25\u001b[0m\n\u001b[0;32m     21\u001b[0m     \u001b[38;5;28;01mreturn\u001b[39;00m keypoints\n\u001b[0;32m     24\u001b[0m frames_folder \u001b[38;5;241m=\u001b[39m \u001b[38;5;124mr\u001b[39m\u001b[38;5;124m\"\u001b[39m\u001b[38;5;124mE:\u001b[39m\u001b[38;5;124m\\\u001b[39m\u001b[38;5;124mFall Detection Dataset\u001b[39m\u001b[38;5;124m\\\u001b[39m\u001b[38;5;124mfall-01-cam0\u001b[39m\u001b[38;5;124m\"\u001b[39m  \u001b[38;5;66;03m# Folder where .png images are stored\u001b[39;00m\n\u001b[1;32m---> 25\u001b[0m frame_files \u001b[38;5;241m=\u001b[39m \u001b[38;5;28msorted\u001b[39m([f \u001b[38;5;28;01mfor\u001b[39;00m f \u001b[38;5;129;01min\u001b[39;00m \u001b[43mos\u001b[49m\u001b[38;5;241m.\u001b[39mlistdir(frames_folder) \u001b[38;5;28;01mif\u001b[39;00m f\u001b[38;5;241m.\u001b[39mendswith(\u001b[38;5;124m\"\u001b[39m\u001b[38;5;124m.png\u001b[39m\u001b[38;5;124m\"\u001b[39m)])\n\u001b[0;32m     26\u001b[0m number_frames\u001b[38;5;241m=\u001b[39m\u001b[38;5;28mlen\u001b[39m(frame_files)\n\u001b[0;32m     27\u001b[0m pose_data \u001b[38;5;241m=\u001b[39m np\u001b[38;5;241m.\u001b[39mzeros((\u001b[38;5;241m17\u001b[39m, \u001b[38;5;241m2\u001b[39m, number_frames))  \u001b[38;5;66;03m# Initialize empty array\u001b[39;00m\n",
      "\u001b[1;31mNameError\u001b[0m: name 'os' is not defined"
     ]
    }
   ],
   "source": [
    "import cv2\n",
    "import numpy as np\n",
    "import tensorflow as tf\n",
    "\n",
    "# Load MoveNet Model (Use Thunder for better accuracy or Lightning for speed)\n",
    "interpreter = tf.lite.Interpreter(model_path=r\"E:\\jupyter notebook\\3.tflite\")\n",
    "interpreter.allocate_tensors()\n",
    "\n",
    "input_details = interpreter.get_input_details()\n",
    "output_details = interpreter.get_output_details()\n",
    "\n",
    "# Function to run MoveNet on an image\n",
    "def run_movenet(image):\n",
    "    image_resized = cv2.resize(image, (192, 192))  # Resize to model input\n",
    "    image_resized = np.expand_dims(image_resized, axis=0).astype(np.float32) / 255.0  # Normalize\n",
    "\n",
    "    interpreter.set_tensor(input_details[0]['index'], image_resized)\n",
    "    interpreter.invoke()\n",
    "    \n",
    "    keypoints = interpreter.get_tensor(output_details[0]['index'])[0][0][:, :2]  # (17, 2)\n",
    "    return keypoints\n",
    "\n",
    "\n",
    "frames_folder = r\"E:\\Fall Detection Dataset\\fall-01-cam0\"  # Folder where .png images are stored\n",
    "frame_files = sorted([f for f in os.listdir(frames_folder) if f.endswith(\".png\")])\n",
    "number_frames=len(frame_files)\n",
    "pose_data = np.zeros((17, 2, number_frames))  # Initialize empty array\n",
    "\n",
    "for i in range(50):\n",
    "    frame_path = f\"{frames_folder}/frame_{i}.png\"\n",
    "    image = cv2.imread(frame_path)\n",
    "    \n",
    "    if image is not None:\n",
    "        keypoints = run_movenet(image)\n",
    "        pose_data[:, :, i] = keypoints.T  # Transpose to match (17, 2, 50)\n",
    "    else:\n",
    "        print(f\"Error loading {frame_path}\")\n",
    "\n",
    "# Save the processed pose data\n",
    "np.save(\"pose_data.npy\", pose_data)\n",
    "print(\"Pose data saved as pose_data.npy\")\n"
   ]
  },
  {
   "cell_type": "code",
   "execution_count": null,
   "id": "90bbe85b-5bef-4537-9df0-c510ec83058d",
   "metadata": {},
   "outputs": [],
   "source": []
  }
 ],
 "metadata": {
  "kernelspec": {
   "display_name": "Python 3 (ipykernel)",
   "language": "python",
   "name": "python3"
  },
  "language_info": {
   "codemirror_mode": {
    "name": "ipython",
    "version": 3
   },
   "file_extension": ".py",
   "mimetype": "text/x-python",
   "name": "python",
   "nbconvert_exporter": "python",
   "pygments_lexer": "ipython3",
   "version": "3.12.3"
  }
 },
 "nbformat": 4,
 "nbformat_minor": 5
}
