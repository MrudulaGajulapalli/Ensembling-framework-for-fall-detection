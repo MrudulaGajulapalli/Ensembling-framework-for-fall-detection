{
 "cells": [
  {
   "cell_type": "code",
   "execution_count": 1,
   "id": "5efd5586-2793-49af-9117-b8197aeaa1bc",
   "metadata": {},
   "outputs": [
    {
     "name": "stdout",
     "output_type": "stream",
     "text": [
      "<class 'pandas.core.frame.DataFrame'>\n",
      "RangeIndex: 70 entries, 0 to 69\n",
      "Columns: 307202 entries, 0 to fall/nonfall\n",
      "dtypes: int64(307202)\n",
      "memory usage: 164.1 MB\n"
     ]
    }
   ],
   "source": [
    "import pandas as pd\n",
    "import numpy as np\n",
    "from sklearn.model_selection import train_test_split, cross_val_score\n",
    "from sklearn.ensemble import RandomForestClassifier\n",
    "from sklearn.linear_model import LogisticRegression\n",
    "from sklearn.svm import SVC\n",
    "from sklearn.neighbors import KNeighborsClassifier\n",
    "from sklearn.tree import DecisionTreeClassifier\n",
    "from sklearn.metrics import accuracy_score, classification_report\n",
    "from sklearn.preprocessing import StandardScaler\n",
    "\n",
    "# Load the CSV file (replace with your file path)\n",
    "data = pd.read_csv(r'E:\\jupyter notebook\\MHI\\MHI.csv')\n",
    "X = data.iloc[:, :-2]  # Features: all columns except the last two\n",
    "y = data.iloc[:, -1]   # Labels: last column (0 for non-fall, 1 for fall)\n",
    "\n",
    "# Split data for test evaluation (unscaled, for feature selection)\n",
    "X_train, X_test, y_train, y_test = train_test_split(X, y, test_size=0.2, random_state=42)\n",
    "data.info()\n",
    "\n",
    "# Scale features\n",
    "scaler = StandardScaler()\n",
    "X_scaled = scaler.fit_transform(X)\n",
    "# Corrected: Unpack all four values from train_test_split\n",
    "X_train_scaled, X_test_scaled, y_train_scaled, y_test_scaled = train_test_split(X_scaled, y, test_size=0.2, random_state=42)\n",
    "\n",
    "# Function to get top 50 features using Random Forest (using unscaled data)\n",
    "def get_top_features(X, y, n_features=50):\n",
    "    rf = RandomForestClassifier(n_estimators=100, random_state=42)\n",
    "    rf.fit(X, y)\n",
    "    feature_importance = pd.Series(rf.feature_importances_, index=X.columns)\n",
    "    top_features = feature_importance.sort_values(ascending=False).head(n_features).index\n",
    "    return X[top_features], top_features\n",
    "\n",
    "# Get reduced feature set\n",
    "X_top, top_features = get_top_features(X, y)\n",
    "# Use scaled data with the selected top features\n",
    "X_train_top = X_train_scaled[:, X.columns.get_indexer(top_features)]\n",
    "X_test_top = X_test_scaled[:, X.columns.get_indexer(top_features)]\n"
   ]
  },
  {
   "cell_type": "code",
   "execution_count": 2,
   "id": "ca542a81-2013-4a98-8193-86cecd0bc57d",
   "metadata": {},
   "outputs": [],
   "source": [
    "# 1. Random Forest Classifier\n",
    "def evaluate_random_forest(X_train, X_test, y_train, y_test):\n",
    "    model = RandomForestClassifier(n_estimators=100, random_state=42)\n",
    "    model.fit(X_train, y_train)\n",
    "    cv_scores = cross_val_score(model, X_top, y, cv=5)\n",
    "    y_pred = model.predict(X_test)\n",
    "    accuracy = accuracy_score(y_test, y_pred)\n",
    "    report = classification_report(y_test, y_pred, zero_division=0)\n",
    "    print(\"Random Forest Results:\")\n",
    "    print(f\"CV Scores: {cv_scores}\")\n",
    "    print(f\"Mean CV Score: {cv_scores.mean():.3f}\")\n",
    "    print(f\"Std CV Score: {cv_scores.std():.3f}\")\n",
    "    print(f\"Test Accuracy: {accuracy:.3f}\")\n",
    "    print(f\"Classification Report:\\n{report}\\n\")\n"
   ]
  },
  {
   "cell_type": "code",
   "execution_count": 3,
   "id": "09fea67a-6a5c-4f5b-8868-12203419d6b4",
   "metadata": {},
   "outputs": [
    {
     "name": "stdout",
     "output_type": "stream",
     "text": [
      "Random Forest Results:\n",
      "CV Scores: [0.92857143 1.         1.         0.78571429 1.        ]\n",
      "Mean CV Score: 0.943\n",
      "Std CV Score: 0.083\n",
      "Test Accuracy: 0.857\n",
      "Classification Report:\n",
      "              precision    recall  f1-score   support\n",
      "\n",
      "           0       0.83      0.83      0.83         6\n",
      "           1       0.88      0.88      0.88         8\n",
      "\n",
      "    accuracy                           0.86        14\n",
      "   macro avg       0.85      0.85      0.85        14\n",
      "weighted avg       0.86      0.86      0.86        14\n",
      "\n",
      "\n"
     ]
    }
   ],
   "source": [
    "# Run all classifiers\n",
    "evaluate_random_forest(X_train_top, X_test_top, y_train, y_test)\n"
   ]
  },
  {
   "cell_type": "code",
   "execution_count": 4,
   "id": "541ed51a-4446-42c5-bd15-12919151fa89",
   "metadata": {},
   "outputs": [],
   "source": [
    "\n",
    "# 2. Logistic Regression Classifier\n",
    "def evaluate_logistic_regression(X_train, X_test, y_train, y_test):\n",
    "    model = LogisticRegression(max_iter=1000, random_state=42)\n",
    "    model.fit(X_train, y_train)\n",
    "    cv_scores = cross_val_score(model, X_top, y, cv=5)\n",
    "    y_pred = model.predict(X_test)\n",
    "    accuracy = accuracy_score(y_test, y_pred)\n",
    "    report = classification_report(y_test, y_pred, zero_division=0)\n",
    "    print(\"Logistic Regression Results:\")\n",
    "    print(f\"CV Scores: {cv_scores}\")\n",
    "    print(f\"Mean CV Score: {cv_scores.mean():.3f}\")\n",
    "    print(f\"Std CV Score: {cv_scores.std():.3f}\")\n",
    "    print(f\"Test Accuracy: {accuracy:.3f}\")\n",
    "    print(f\"Classification Report:\\n{report}\\n\")\n"
   ]
  },
  {
   "cell_type": "code",
   "execution_count": 5,
   "id": "0c584602-96a0-4cdc-bea7-894f2025b824",
   "metadata": {},
   "outputs": [
    {
     "name": "stdout",
     "output_type": "stream",
     "text": [
      "Logistic Regression Results:\n",
      "CV Scores: [0.92857143 0.92857143 1.         0.78571429 1.        ]\n",
      "Mean CV Score: 0.929\n",
      "Std CV Score: 0.078\n",
      "Test Accuracy: 0.857\n",
      "Classification Report:\n",
      "              precision    recall  f1-score   support\n",
      "\n",
      "           0       0.83      0.83      0.83         6\n",
      "           1       0.88      0.88      0.88         8\n",
      "\n",
      "    accuracy                           0.86        14\n",
      "   macro avg       0.85      0.85      0.85        14\n",
      "weighted avg       0.86      0.86      0.86        14\n",
      "\n",
      "\n"
     ]
    }
   ],
   "source": [
    "evaluate_logistic_regression(X_train_top, X_test_top, y_train, y_test)\n"
   ]
  },
  {
   "cell_type": "code",
   "execution_count": 6,
   "id": "0938a3b4-449c-4fde-a5ba-198e11a768eb",
   "metadata": {},
   "outputs": [],
   "source": [
    "\n",
    "# 3. SVM Classifier (RBF Kernel)\n",
    "def evaluate_svm_rbf(X_train, X_test, y_train, y_test):\n",
    "    model = SVC(kernel='rbf', random_state=42)\n",
    "    model.fit(X_train, y_train)\n",
    "    cv_scores = cross_val_score(model, X_top, y, cv=5)\n",
    "    y_pred = model.predict(X_test)\n",
    "    accuracy = accuracy_score(y_test, y_pred)\n",
    "    report = classification_report(y_test, y_pred, zero_division=0)\n",
    "    print(\"SVM (RBF) Results:\")\n",
    "    print(f\"CV Scores: {cv_scores}\")\n",
    "    print(f\"Mean CV Score: {cv_scores.mean():.3f}\")\n",
    "    print(f\"Std CV Score: {cv_scores.std():.3f}\")\n",
    "    print(f\"Test Accuracy: {accuracy:.3f}\")\n",
    "    print(f\"Classification Report:\\n{report}\\n\")\n",
    "\n",
    "\n"
   ]
  },
  {
   "cell_type": "code",
   "execution_count": 7,
   "id": "805f7e8e-45d3-4084-b69c-b6083d3e2c24",
   "metadata": {},
   "outputs": [
    {
     "name": "stdout",
     "output_type": "stream",
     "text": [
      "SVM (RBF) Results:\n",
      "CV Scores: [0.92857143 0.92857143 1.         0.78571429 1.        ]\n",
      "Mean CV Score: 0.929\n",
      "Std CV Score: 0.078\n",
      "Test Accuracy: 0.857\n",
      "Classification Report:\n",
      "              precision    recall  f1-score   support\n",
      "\n",
      "           0       0.83      0.83      0.83         6\n",
      "           1       0.88      0.88      0.88         8\n",
      "\n",
      "    accuracy                           0.86        14\n",
      "   macro avg       0.85      0.85      0.85        14\n",
      "weighted avg       0.86      0.86      0.86        14\n",
      "\n",
      "\n"
     ]
    }
   ],
   "source": [
    "\n",
    "evaluate_svm_rbf(X_train_top, X_test_top, y_train, y_test)\n"
   ]
  },
  {
   "cell_type": "code",
   "execution_count": 8,
   "id": "4521f559-f5e0-4fa4-86a2-a99e8dd29b8d",
   "metadata": {},
   "outputs": [],
   "source": [
    "# 4. K-Nearest Neighbors Classifier\n",
    "def evaluate_knn(X_train, X_test, y_train, y_test):\n",
    "    model = KNeighborsClassifier(n_neighbors=5)\n",
    "    model.fit(X_train, y_train)\n",
    "    cv_scores = cross_val_score(model, X_top, y, cv=5)\n",
    "    y_pred = model.predict(X_test)\n",
    "    accuracy = accuracy_score(y_test, y_pred)\n",
    "    report = classification_report(y_test, y_pred, zero_division=0)\n",
    "    print(\"KNN Results:\")\n",
    "    print(f\"CV Scores: {cv_scores}\")\n",
    "    print(f\"Mean CV Score: {cv_scores.mean():.3f}\")\n",
    "    print(f\"Std CV Score: {cv_scores.std():.3f}\")\n",
    "    print(f\"Test Accuracy: {accuracy:.3f}\")\n",
    "    print(f\"Classification Report:\\n{report}\\n\")\n"
   ]
  },
  {
   "cell_type": "code",
   "execution_count": 9,
   "id": "2dd9632d-3c3c-43ca-9ed5-ba6cbe366962",
   "metadata": {},
   "outputs": [
    {
     "name": "stdout",
     "output_type": "stream",
     "text": [
      "KNN Results:\n",
      "CV Scores: [1.         0.92857143 1.         0.78571429 1.        ]\n",
      "Mean CV Score: 0.943\n",
      "Std CV Score: 0.083\n",
      "Test Accuracy: 0.929\n",
      "Classification Report:\n",
      "              precision    recall  f1-score   support\n",
      "\n",
      "           0       0.86      1.00      0.92         6\n",
      "           1       1.00      0.88      0.93         8\n",
      "\n",
      "    accuracy                           0.93        14\n",
      "   macro avg       0.93      0.94      0.93        14\n",
      "weighted avg       0.94      0.93      0.93        14\n",
      "\n",
      "\n"
     ]
    }
   ],
   "source": [
    "evaluate_knn(X_train_top, X_test_top, y_train, y_test)\n"
   ]
  },
  {
   "cell_type": "code",
   "execution_count": 10,
   "id": "ecd15496-24c1-4f20-b505-f9e99fbb6b03",
   "metadata": {},
   "outputs": [],
   "source": [
    "\n",
    "# 5. Decision Tree Classifier\n",
    "def evaluate_decision_tree(X_train, X_test, y_train, y_test):\n",
    "    model = DecisionTreeClassifier(random_state=42)\n",
    "    model.fit(X_train, y_train)\n",
    "    cv_scores = cross_val_score(model, X_top, y, cv=5)\n",
    "    y_pred = model.predict(X_test)\n",
    "    accuracy = accuracy_score(y_test, y_pred)\n",
    "    report = classification_report(y_test, y_pred, zero_division=0)\n",
    "    print(\"Decision Tree Results:\")\n",
    "    print(f\"CV Scores: {cv_scores}\")\n",
    "    print(f\"Mean CV Score: {cv_scores.mean():.3f}\")\n",
    "    print(f\"Std CV Score: {cv_scores.std():.3f}\")\n",
    "    print(f\"Test Accuracy: {accuracy:.3f}\")\n",
    "    print(f\"Classification Report:\\n{report}\\n\")"
   ]
  },
  {
   "cell_type": "code",
   "execution_count": 11,
   "id": "b5faacf4-43d6-4f22-b69b-0e603ab11033",
   "metadata": {},
   "outputs": [
    {
     "name": "stdout",
     "output_type": "stream",
     "text": [
      "Decision Tree Results:\n",
      "CV Scores: [0.85714286 1.         1.         0.78571429 1.        ]\n",
      "Mean CV Score: 0.929\n",
      "Std CV Score: 0.090\n",
      "Test Accuracy: 0.857\n",
      "Classification Report:\n",
      "              precision    recall  f1-score   support\n",
      "\n",
      "           0       0.83      0.83      0.83         6\n",
      "           1       0.88      0.88      0.88         8\n",
      "\n",
      "    accuracy                           0.86        14\n",
      "   macro avg       0.85      0.85      0.85        14\n",
      "weighted avg       0.86      0.86      0.86        14\n",
      "\n",
      "\n"
     ]
    }
   ],
   "source": [
    "evaluate_decision_tree(X_train_top, X_test_top, y_train, y_test)"
   ]
  },
  {
   "cell_type": "code",
   "execution_count": 12,
   "id": "8e54d8b4-a850-415e-b0ad-c7c4234d2716",
   "metadata": {},
   "outputs": [],
   "source": [
    "from sklearn.naive_bayes import GaussianNB  # Added for Naive Bayes\n",
    "def evaluate_naive_bayes(X_train, X_test, y_train, y_test):\n",
    "    model = GaussianNB()\n",
    "    model.fit(X_train, y_train)\n",
    "    cv_scores = cross_val_score(model, X_top, y, cv=5)\n",
    "    y_pred = model.predict(X_test)\n",
    "    accuracy = accuracy_score(y_test, y_pred)\n",
    "    report = classification_report(y_test, y_pred, zero_division=0)\n",
    "    print(\"Naive Bayes (Gaussian) Results:\")\n",
    "    print(f\"CV Scores: {cv_scores}\")\n",
    "    print(f\"Mean CV Score: {cv_scores.mean():.3f}\")\n",
    "    print(f\"Std CV Score: {cv_scores.std():.3f}\")\n",
    "    print(f\"Test Accuracy: {accuracy:.3f}\")\n",
    "    print(f\"Classification Report:\\n{report}\\n\")"
   ]
  },
  {
   "cell_type": "code",
   "execution_count": 13,
   "id": "a7cbc45a-5d3a-473a-b6ca-8d14362f8a02",
   "metadata": {},
   "outputs": [
    {
     "name": "stdout",
     "output_type": "stream",
     "text": [
      "Naive Bayes (Gaussian) Results:\n",
      "CV Scores: [0.64285714 1.         0.92857143 0.85714286 0.92857143]\n",
      "Mean CV Score: 0.871\n",
      "Std CV Score: 0.123\n",
      "Test Accuracy: 0.929\n",
      "Classification Report:\n",
      "              precision    recall  f1-score   support\n",
      "\n",
      "           0       1.00      0.83      0.91         6\n",
      "           1       0.89      1.00      0.94         8\n",
      "\n",
      "    accuracy                           0.93        14\n",
      "   macro avg       0.94      0.92      0.93        14\n",
      "weighted avg       0.94      0.93      0.93        14\n",
      "\n",
      "\n"
     ]
    }
   ],
   "source": [
    "evaluate_naive_bayes(X_train_top, X_test_top, y_train_scaled, y_test_scaled)"
   ]
  },
  {
   "cell_type": "code",
   "execution_count": null,
   "id": "ad0203f7-0ac7-49b7-b63e-a96ddb4a7555",
   "metadata": {},
   "outputs": [],
   "source": []
  },
  {
   "cell_type": "code",
   "execution_count": null,
   "id": "84955c73-57ea-48f6-9843-e9d188bce977",
   "metadata": {},
   "outputs": [],
   "source": []
  },
  {
   "cell_type": "code",
   "execution_count": null,
   "id": "7a94ef07-b042-48a4-9b86-5165cbc1713e",
   "metadata": {},
   "outputs": [],
   "source": []
  }
 ],
 "metadata": {
  "kernelspec": {
   "display_name": "Python 3 (ipykernel)",
   "language": "python",
   "name": "python3"
  },
  "language_info": {
   "codemirror_mode": {
    "name": "ipython",
    "version": 3
   },
   "file_extension": ".py",
   "mimetype": "text/x-python",
   "name": "python",
   "nbconvert_exporter": "python",
   "pygments_lexer": "ipython3",
   "version": "3.12.3"
  }
 },
 "nbformat": 4,
 "nbformat_minor": 5
}
