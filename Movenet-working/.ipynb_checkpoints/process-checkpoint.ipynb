{
 "cells": [
  {
   "cell_type": "code",
   "execution_count": 10,
   "id": "2d48f407-16da-41e0-8f05-995489399230",
   "metadata": {},
   "outputs": [],
   "source": [
    "import os\n",
    "import pandas as pd\n",
    "import numpy as np\n",
    "import cv2\n"
   ]
  },
  {
   "cell_type": "code",
   "execution_count": 15,
   "id": "3a3226bb-985a-4a15-8c35-75897aa67876",
   "metadata": {},
   "outputs": [],
   "source": [
    "fall=r\"E:\\Fall Detection Dataset\\fall_cam0\"\n",
    "nonfall=r\"E:\\Fall Detection Dataset\\nonfall_cam0\"\n",
    "video_data=[]\n",
    "labels=[]\n",
    "frame_size(224,224)\n"
   ]
  },
  {
   "cell_type": "code",
   "execution_count": 16,
   "id": "087df38d-2d81-420f-a65a-212dbe53b3df",
   "metadata": {},
   "outputs": [
    {
     "name": "stdout",
     "output_type": "stream",
     "text": [
      "Total videos loaded: 30\n",
      "Shape of first video: (160, 480, 640, 3)\n"
     ]
    }
   ],
   "source": [
    "for video_folder in sorted(os.listdir(fall)):\n",
    "    video_path = os.path.join(fall, video_folder)\n",
    "    \n",
    "    if not os.path.isdir(video_path):\n",
    "        continue  # Skip if it's not a folder\n",
    "    \n",
    "    frames = []\n",
    "    \n",
    "    \n",
    "    # Iterate through frames (images) in sorted order\n",
    "    for frame in sorted(os.listdir(video_path)):\n",
    "        frame_path = os.path.join(video_path, frame)\n",
    "        \n",
    "        if frame_path.lower().endswith(('.png', '.jpg', '.jpeg')):\n",
    "            img = cv2.imread(frame_path)  # Read image\n",
    "            img = cv2.resize(img, frame_size)  # Resize (optional)\n",
    "            img = cv2.cvtColor(img, cv2.COLOR_BGR2RGB)  # Convert BGR to RGB\n",
    "            frames.append(img)\n",
    "    \n",
    "    if frames:  # If frames were found\n",
    "        video_array = np.array(frames)  # Convert list to NumPy array\n",
    "        video_data.append(video_array)  # Append to dataset\n",
    "        labels.append(video_folder)  # Store the folder name as label\n",
    "\n",
    "# Convert to NumPy arrays\n",
    "video_data = np.array(video_data, dtype=object)  # Each video has a different number of frames\n",
    "labels = np.array(labels)\n",
    "\n",
    "print(f\"Total videos loaded: {len(video_data)}\")\n",
    "print(f\"Shape of first video: {video_data[0].shape}\")  # (num_frames, heig"
   ]
  },
  {
   "cell_type": "code",
   "execution_count": 21,
   "id": "34c19dca-1cdb-474a-bc21-9eea201cd738",
   "metadata": {},
   "outputs": [
    {
     "ename": "error",
     "evalue": "OpenCV(4.10.0) :-1: error: (-5:Bad argument) in function 'imshow'\n> Overload resolution failed:\n>  - imshow() missing required argument 'mat' (pos 2)\n>  - imshow() missing required argument 'mat' (pos 2)\n>  - imshow() missing required argument 'mat' (pos 2)\n",
     "output_type": "error",
     "traceback": [
      "\u001b[1;31m---------------------------------------------------------------------------\u001b[0m",
      "\u001b[1;31merror\u001b[0m                                     Traceback (most recent call last)",
      "Cell \u001b[1;32mIn[21], line 1\u001b[0m\n\u001b[1;32m----> 1\u001b[0m \u001b[43mcv2\u001b[49m\u001b[38;5;241;43m.\u001b[39;49m\u001b[43mimshow\u001b[49m\u001b[43m(\u001b[49m\u001b[43mvideo_data\u001b[49m\u001b[43m[\u001b[49m\u001b[38;5;241;43m0\u001b[39;49m\u001b[43m]\u001b[49m\u001b[43m[\u001b[49m\u001b[38;5;241;43m0\u001b[39;49m\u001b[43m]\u001b[49m\u001b[43m)\u001b[49m\n",
      "\u001b[1;31merror\u001b[0m: OpenCV(4.10.0) :-1: error: (-5:Bad argument) in function 'imshow'\n> Overload resolution failed:\n>  - imshow() missing required argument 'mat' (pos 2)\n>  - imshow() missing required argument 'mat' (pos 2)\n>  - imshow() missing required argument 'mat' (pos 2)\n"
     ]
    }
   ],
   "source": [
    "cv2.imshow(video_data[0][0])"
   ]
  },
  {
   "cell_type": "code",
   "execution_count": 22,
   "id": "27af9c7b-cf4a-48b4-93d1-66fe0524ccf2",
   "metadata": {},
   "outputs": [
    {
     "data": {
      "text/plain": [
       "(110, 480, 640, 3)"
      ]
     },
     "execution_count": 22,
     "metadata": {},
     "output_type": "execute_result"
    }
   ],
   "source": [
    "video_data[1].shape"
   ]
  },
  {
   "cell_type": "code",
   "execution_count": 23,
   "id": "9d978961-fba2-4ef5-80fc-241fe44430ea",
   "metadata": {},
   "outputs": [],
   "source": [
    "min_frames=min(video.shape[0] for video in video_data)"
   ]
  },
  {
   "cell_type": "code",
   "execution_count": 24,
   "id": "350bb842-1c11-4c31-a677-5ec3de5efedc",
   "metadata": {},
   "outputs": [
    {
     "data": {
      "text/plain": [
       "55"
      ]
     },
     "execution_count": 24,
     "metadata": {},
     "output_type": "execute_result"
    }
   ],
   "source": [
    "min_frames"
   ]
  },
  {
   "cell_type": "code",
   "execution_count": null,
   "id": "67ed6878-9550-41ca-b91e-fa8af908989b",
   "metadata": {},
   "outputs": [],
   "source": []
  }
 ],
 "metadata": {
  "kernelspec": {
   "display_name": "Python 3 (ipykernel)",
   "language": "python",
   "name": "python3"
  },
  "language_info": {
   "codemirror_mode": {
    "name": "ipython",
    "version": 3
   },
   "file_extension": ".py",
   "mimetype": "text/x-python",
   "name": "python",
   "nbconvert_exporter": "python",
   "pygments_lexer": "ipython3",
   "version": "3.12.3"
  }
 },
 "nbformat": 4,
 "nbformat_minor": 5
}
