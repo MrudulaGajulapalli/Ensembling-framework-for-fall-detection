{
 "cells": [
  {
   "cell_type": "code",
   "execution_count": 4,
   "id": "ceea26ff-d240-47de-a703-108a3c86a6a4",
   "metadata": {},
   "outputs": [
    {
     "name": "stdout",
     "output_type": "stream",
     "text": [
      "Feature extraction completed. CSV saved!\n"
     ]
    }
   ],
   "source": [
    "import cv2\n",
    "import numpy as np\n",
    "import pandas as pd\n",
    "import os\n",
    "\n",
    "# Path to MHI images\n",
    "image_folder = r\"E:\\Fall Detection Dataset\\MHI_nonfall\"\n",
    "image_files = [f for f in os.listdir(image_folder) if f.endswith(('png', 'jpg', 'jpeg'))]\n",
    "\n",
    "data = []\n",
    "\n",
    "for img_name in image_files:\n",
    "    img_path = os.path.join(image_folder, img_name)\n",
    "    img = cv2.imread(img_path, cv2.IMREAD_GRAYSCALE)  # Read image in grayscale\n",
    "\n",
    "    # Feature 1: Mean & Standard Deviation of Pixel Intensities\n",
    "    mean_intensity = np.mean(img)\n",
    "    std_intensity = np.std(img)\n",
    "\n",
    "    # Feature 2: Hu Moments (Shape Descriptors)\n",
    "    moments = cv2.moments(img)\n",
    "    hu_moments = cv2.HuMoments(moments).flatten()  # 7 Hu moments\n",
    "\n",
    "    # Feature 3: Edge Detection (Sobel)\n",
    "    sobel_x = cv2.Sobel(img, cv2.CV_64F, 1, 0, ksize=5)\n",
    "    sobel_y = cv2.Sobel(img, cv2.CV_64F, 0, 1, ksize=5)\n",
    "    sobel_magnitude = np.sqrt(sobel_x**2 + sobel_y**2).mean()\n",
    "\n",
    "    # Feature 4: Histogram of Pixel Intensities (Binned into 10 bins)\n",
    "    hist = cv2.calcHist([img], [0], None, [10], [0, 256]).flatten()\n",
    "\n",
    "    # Store the extracted features\n",
    "    data.append([img_name, mean_intensity, std_intensity, sobel_magnitude, *hu_moments, *hist])\n",
    "\n",
    "# Column names\n",
    "columns = [\"Image_Name\", \"Mean_Intensity\", \"Std_Intensity\", \"Sobel_Magnitude\"] + \\\n",
    "          [f\"Hu_{i+1}\" for i in range(7)] + [f\"Hist_Bin_{i+1}\" for i in range(10)]\n",
    "\n",
    "# Save to CSV\n",
    "df = pd.DataFrame(data, columns=columns)\n",
    "df.to_csv(\"MHI_nonfall.csv\", index=False)\n",
    "\n",
    "print(\"Feature extraction completed. CSV saved!\")\n"
   ]
  },
  {
   "cell_type": "code",
   "execution_count": null,
   "id": "b1403f8a-02f5-4efa-844b-48b63d780ed6",
   "metadata": {},
   "outputs": [],
   "source": []
  }
 ],
 "metadata": {
  "kernelspec": {
   "display_name": "Python 3 (ipykernel)",
   "language": "python",
   "name": "python3"
  },
  "language_info": {
   "codemirror_mode": {
    "name": "ipython",
    "version": 3
   },
   "file_extension": ".py",
   "mimetype": "text/x-python",
   "name": "python",
   "nbconvert_exporter": "python",
   "pygments_lexer": "ipython3",
   "version": "3.12.3"
  }
 },
 "nbformat": 4,
 "nbformat_minor": 5
}
