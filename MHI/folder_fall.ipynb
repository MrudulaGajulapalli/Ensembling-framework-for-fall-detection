{
 "cells": [
  {
   "cell_type": "code",
   "execution_count": 1,
   "id": "f7f69040-a795-4850-a3a9-7fce317054a7",
   "metadata": {},
   "outputs": [
    {
     "name": "stdout",
     "output_type": "stream",
     "text": [
      "Saved: E:\\Fall Detection Dataset\\MHI_fall\\fall-01-cam0-rgb_MHI.png\n",
      "Saved: E:\\Fall Detection Dataset\\MHI_fall\\fall-02-cam0-rgb_MHI.png\n",
      "Saved: E:\\Fall Detection Dataset\\MHI_fall\\fall-03-cam0-rgb_MHI.png\n",
      "Saved: E:\\Fall Detection Dataset\\MHI_fall\\fall-04-cam0-rgb_MHI.png\n",
      "Saved: E:\\Fall Detection Dataset\\MHI_fall\\fall-05-cam0-rgb_MHI.png\n",
      "Saved: E:\\Fall Detection Dataset\\MHI_fall\\fall-06-cam0-rgb_MHI.png\n",
      "Saved: E:\\Fall Detection Dataset\\MHI_fall\\fall-07-cam0-rgb_MHI.png\n",
      "Saved: E:\\Fall Detection Dataset\\MHI_fall\\fall-08-cam0-rgb_MHI.png\n",
      "Saved: E:\\Fall Detection Dataset\\MHI_fall\\fall-09-cam0-rgb_MHI.png\n",
      "Saved: E:\\Fall Detection Dataset\\MHI_fall\\fall-10-cam0-rgb_MHI.png\n",
      "Saved: E:\\Fall Detection Dataset\\MHI_fall\\fall-11-cam0-rgb_MHI.png\n",
      "Saved: E:\\Fall Detection Dataset\\MHI_fall\\fall-12-cam0-rgb_MHI.png\n",
      "Saved: E:\\Fall Detection Dataset\\MHI_fall\\fall-13-cam0-rgb_MHI.png\n",
      "Saved: E:\\Fall Detection Dataset\\MHI_fall\\fall-14-cam0-rgb_MHI.png\n",
      "Saved: E:\\Fall Detection Dataset\\MHI_fall\\fall-15-cam0-rgb_MHI.png\n",
      "Saved: E:\\Fall Detection Dataset\\MHI_fall\\fall-16-cam0-rgb_MHI.png\n",
      "Saved: E:\\Fall Detection Dataset\\MHI_fall\\fall-17-cam0-rgb_MHI.png\n",
      "Saved: E:\\Fall Detection Dataset\\MHI_fall\\fall-18-cam0-rgb_MHI.png\n",
      "Saved: E:\\Fall Detection Dataset\\MHI_fall\\fall-19-cam0-rgb_MHI.png\n",
      "Saved: E:\\Fall Detection Dataset\\MHI_fall\\fall-20-cam0-rgb_MHI.png\n",
      "Saved: E:\\Fall Detection Dataset\\MHI_fall\\fall-21-cam0-rgb_MHI.png\n",
      "Saved: E:\\Fall Detection Dataset\\MHI_fall\\fall-22-cam0-rgb_MHI.png\n",
      "Saved: E:\\Fall Detection Dataset\\MHI_fall\\fall-23-cam0-rgb_MHI.png\n",
      "Saved: E:\\Fall Detection Dataset\\MHI_fall\\fall-24-cam0-rgb_MHI.png\n",
      "Saved: E:\\Fall Detection Dataset\\MHI_fall\\fall-25-cam0-rgb_MHI.png\n",
      "Saved: E:\\Fall Detection Dataset\\MHI_fall\\fall-26-cam0-rgb_MHI.png\n",
      "Saved: E:\\Fall Detection Dataset\\MHI_fall\\fall-27-cam0-rgb_MHI.png\n",
      "Saved: E:\\Fall Detection Dataset\\MHI_fall\\fall-28-cam0-rgb_MHI.png\n",
      "Saved: E:\\Fall Detection Dataset\\MHI_fall\\fall-29-cam0-rgb_MHI.png\n",
      "Saved: E:\\Fall Detection Dataset\\MHI_fall\\fall-30-cam0-rgb_MHI.png\n",
      "All MHIs saved successfully.\n"
     ]
    }
   ],
   "source": [
    "import os\n",
    "import cv2\n",
    "import numpy as np\n",
    "import matplotlib.pyplot as plt\n",
    "\n",
    "def load_video_frames(folder_path):\n",
    "    \"\"\"Load all frames from a given folder.\"\"\"\n",
    "    frame_files = sorted([f for f in os.listdir(folder_path) if f.endswith('.png')])\n",
    "    frames = [cv2.imread(os.path.join(folder_path, f), cv2.IMREAD_GRAYSCALE) for f in frame_files]\n",
    "    return frames\n",
    "\n",
    "def compute_mhi(frames, duration=30):\n",
    "    \"\"\"Compute the Motion History Image (MHI) from a sequence of frames.\"\"\"\n",
    "    height, width = frames[0].shape\n",
    "    mhi = np.zeros((height, width), dtype=np.float32)\n",
    "    timestamp = 1  # Start timestamp\n",
    "    \n",
    "    for i in range(1, len(frames)):\n",
    "        diff = cv2.absdiff(frames[i], frames[i - 1])\n",
    "        _, motion_mask = cv2.threshold(diff, 30, 1, cv2.THRESH_BINARY)\n",
    "        mhi = np.where(motion_mask > 0, timestamp, mhi - 1)\n",
    "        mhi[mhi < 0] = 0  # Keep non-negative values\n",
    "        timestamp += 1\n",
    "    \n",
    "    # Normalize MHI to 0-255 for visualization\n",
    "    mhi = (mhi / np.max(mhi) * 255).astype(np.uint8)\n",
    "    return mhi\n",
    "\n",
    "# Define the main dataset path\n",
    "dataset_path = r\"E:\\Fall Detection Dataset\\fall_cam1\\datasets\"\n",
    "output_folder = os.path.join(r\"E:\\Fall Detection Dataset\", \"MHI_fall\")\n",
    "os.makedirs(output_folder, exist_ok=True)\n",
    "\n",
    "# Get all video folders\n",
    "video_folders = sorted(os.listdir(dataset_path))\n",
    "\n",
    "for video_folder in video_folders:\n",
    "    folder_path = os.path.join(dataset_path, video_folder)\n",
    "    if os.path.isdir(folder_path):\n",
    "        frames = load_video_frames(folder_path)\n",
    "        if frames:\n",
    "            mhi_image = compute_mhi(frames)\n",
    "            output_path = os.path.join(output_folder, f\"{video_folder}_MHI.png\")\n",
    "            cv2.imwrite(output_path, mhi_image)\n",
    "            print(f\"Saved: {output_path}\")\n",
    "\n",
    "print(\"All MHIs saved successfully.\")\n"
   ]
  },
  {
   "cell_type": "code",
   "execution_count": null,
   "id": "0ff441db-a2e8-4172-bf2c-b57d76ff820a",
   "metadata": {},
   "outputs": [],
   "source": []
  }
 ],
 "metadata": {
  "kernelspec": {
   "display_name": "Python 3 (ipykernel)",
   "language": "python",
   "name": "python3"
  },
  "language_info": {
   "codemirror_mode": {
    "name": "ipython",
    "version": 3
   },
   "file_extension": ".py",
   "mimetype": "text/x-python",
   "name": "python",
   "nbconvert_exporter": "python",
   "pygments_lexer": "ipython3",
   "version": "3.12.3"
  }
 },
 "nbformat": 4,
 "nbformat_minor": 5
}
